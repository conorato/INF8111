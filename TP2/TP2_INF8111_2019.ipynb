{
 "cells": [
  {
   "cell_type": "markdown",
   "metadata": {
    "colab_type": "text",
    "id": "Xfa2aW516Dcn"
   },
   "source": [
    "# INF8111 - Fouille de données\n",
    "\n",
    "\n",
    "## TP2 Automne 2019 - Extraction et analyse d'une base de données de tweets\n",
    "\n",
    "##### Membres de l'équipe:\n",
    "\n",
    "    - Claudia Onorato (1845448) 1\n",
    "    - William Harvey (1851388) 2\n",
    "    - Jérémie Miglierina (Matricule) 3"
   ]
  },
  {
   "cell_type": "markdown",
   "metadata": {
    "colab_type": "text",
    "id": "9hiv_fs96Dct"
   },
   "source": [
    "## Présentation du problème\n",
    "\n",
    "En 2017, Twitter compte 313 millions d’utilisateurs actifs par mois avec 500 millions de tweets envoyés par jour. Cette information est rendue disponible à destination de la recherche et du développement web grâce à une API publique qui permet de collecter les informations que l'on souhaite.\n",
    "\n",
    "Néanmoins, la politique de développement de Twitter limite le partage de ces données. En effet, le partage du contenu des tweets dans une base de données n'est pas autorisé, seuls les identifiants des tweets le sont. \n",
    "Pour partager publiquement une base de données de tweets que l'on a créée, il faut que cette base de données ne soit consituée que des identifiants de tweets, et c'est ce que l'on retrouve dans la plupart des jeux de données publiques.\n",
    "\n",
    "Il est donc nécessaire pour exploiter ces données \"d'hydrater\" les tweets en question, c'est-à-dire extraire l'ensemble des informations à partir de l'ID, ce qui demande d'utiliser l'API de Twitter.\n",
    "\n",
    "Nous allons ici utiliser des bases de données publiques créées par GWU (George Washington University), qui ont l'avantage d'être très récentes : \n",
    "https://dataverse.harvard.edu/dataverse/gwu-libraries\n",
    "\n",
    "Chaque base de données de GWU couvre un sujet précis (élection américaine de 2016, jeux olympiques, etc.), et les données ont été recueillis en appliquant des requêtes qui filtraient les résultats pour n'avoir que des tweets pertinents. Un fichier README est fourni avec chaque base de données pour donner les détails de création du *dataset*. \n",
    "\n",
    "\n",
    "**Les objectifs de ce TP sont donc les suivants :**\n",
    "\n",
    " 1. Construire un *crawler* qui collecte les informations d'un tweet à partir de son ID, avec le jeu de données de son choix et les informations pertinentes pour le sujet choisi\n",
    " 2. A partir de ces données de Twitter collectés, application de méthodes en Machine Learning (ML)/Natural Language Processing (NLP) pour fournir une analyse pertinente. \n",
    "\n",
    "\n",
    "Twitter autorisant le partage **local** des données (par exemple au sein d'un groupe de recherche), une base de données sera fournie si vous ne parvenez pas à créer la vôtre."
   ]
  },
  {
   "cell_type": "markdown",
   "metadata": {
    "colab_type": "text",
    "id": "NSeiCJGY6Dcv"
   },
   "source": [
    "# I/ Hydratation de tweets à l'aide de l'API Twitter (4 Pts)"
   ]
  },
  {
   "cell_type": "markdown",
   "metadata": {
    "colab_type": "text",
    "id": "aHYJW0JA6Dcx"
   },
   "source": [
    "### 1. Obtenir l'authorisation de Twitter pour l'utilisation de l'API"
   ]
  },
  {
   "cell_type": "markdown",
   "metadata": {
    "colab_type": "text",
    "id": "gf_rpI2o6Dcy"
   },
   "source": [
    "Pour l'authentification, Twitter utilise OAuth : https://developer.twitter.com/en/docs/basics/authentication/overview/oauth\n",
    "Vous aurez ici besoin en particulier de OAuth2, car vous n'allez pas interagir avec des utilisateurs sur Twitter (simplement collectés des données).\n",
    "\n",
    "##### 1.1. Obtention d'un compte Twitter développeur\n",
    "\n",
    " La première étape nécessaire pour enregistrer votre application et de créer un compte Twitter développeur. Pour ce faire :\n",
    "\n",
    " - Créez un compte Twitter classique si vous n'en avez pas déjà un.\n",
    " \n",
    " - Sur le site, https://developer.twitter.com, cliquez sur *apply* pour obtenir un compte développeur. \n",
    " \n",
    " - Remplissez tous les champs nécessaires. Twitter demande beaucoup de détails sur l'utilisation que vous allez faire de ce compte, il est donc important d'expliquer la démarche en détail : il faut souligner le fait que le projet est **académique** (aucune intention commerciale, aucune publication des données collectés, etc.), expliquer les objectifs et l'apprentissage de ce TP (prise en main de l'API Twitter, l'application concrète de méthodes de Data Mining, etc.), mais aussi expliquer en détail ce que vous allez faire des données (en reprenant des consignes du sujet), les méthodes que vous allez appliquer (citez des méthodes vues en cours ou au précédent TP), le rendu fourni (insistez sur le fait que rien ne sera publique), etc. Pensez notamment à indiquer le nom du cours et le sigle du cours, le nom de l'établissement, mon nom (Théo Moins), etc. Cochez que vous n'utiliserez pas la fonctionnalité de Retweet, et que l'aggregation et l'affichage de tweets ne sera fait que dans un cadre pédagogique (non publique, et sous la forme d'un projet de recherche). Si jamais vous n'êtes pas assez précis, Twitter peut vous renvoyer un courriel pour vous demander des précisions. \n",
    "\n",
    "##### 1.2. Obtention d'un jeton d'accès\n",
    "\n",
    " - Lorsque Twitter aura validé votre demande de compte développeur, allez sur https://developer.twitter.com/en/apps pour créer une application (cliquer sur *create an app*)\n",
    "\n",
    "- Ici encore, des informations sont à fournir ici. Certaines, comme le nom ou le site internet, ne sont pas très importante, vous pouvez mettre un site internet factice si vous le souhaitez.\n",
    "\n",
    "- A la fin de ce processus, vous pouvez enfin obtenir les clés et les jetons pour utiliser l'API: allez sur la page de l'application pour créer les jetons. Vous devez récupérer une paire de clés et une paire de jetons pour passer à la suite.\n",
    "\n"
   ]
  },
  {
   "cell_type": "code",
   "execution_count": 0,
   "metadata": {
    "colab": {},
    "colab_type": "code",
    "id": "iUE4EQmT6Dcz"
   },
   "outputs": [],
   "source": [
    "CONSUMER_KEY = \"GlHxKShmO5b9OEsQ4Dt0zvyOX\"\n",
    "CONSUMER_SECRET = \"vI2oo6y2MvDfXExtqksciUpEOQQjKjFjYro4gqYLygRf88Bf4x\"\n",
    "\n",
    "oauth_token = \"1130485290836078592-4QoIqjpbH5dwxiFzwsJJI0HI6QJoZX\"\n",
    "oauth_secret = \"4AIWHfRlEwZ8EFSSZ945tsFaSlijDzhlEGcTWogPfdrBl\""
   ]
  },
  {
   "cell_type": "markdown",
   "metadata": {
    "colab_type": "text",
    "id": "ohpTb_Br6Dc3"
   },
   "source": [
    "###  2. Premiers pas avec Twython\n",
    "\n",
    "##### 2.1 Installation et import de la librairie\n"
   ]
  },
  {
   "cell_type": "markdown",
   "metadata": {
    "colab_type": "text",
    "id": "H2BiaXAJ6Dc4"
   },
   "source": [
    "Plusieurs librairies Python existent pour manipuler l'API Twitter. Aussi appelé *wrappers*, ce sont un ensemble de fonctions python qui appelle des fonctions de l'API. Parmi elles, nous utiliserons Twython, librairie répendue et activement maintenue.\n",
    "\n",
    "Documentation de Twython : https://twython.readthedocs.io/en/latest/api.html "
   ]
  },
  {
   "cell_type": "code",
   "execution_count": 15,
   "metadata": {
    "colab": {},
    "colab_type": "code",
    "id": "5KRCALSZ6Dc5"
   },
   "outputs": [],
   "source": [
    "import csv\n",
    "import time\n",
    "import sys\n",
    "try:\n",
    "    from twython import Twython, TwythonError, TwythonRateLimitError\n",
    "except ImportError:\n",
    "    !pip install --user twython"
   ]
  },
  {
   "cell_type": "markdown",
   "metadata": {
    "colab_type": "text",
    "id": "bvPqHC_L6Dc9"
   },
   "source": [
    "##### 2.2 Création d'une application et premiers tests:"
   ]
  },
  {
   "cell_type": "code",
   "execution_count": 0,
   "metadata": {
    "colab": {},
    "colab_type": "code",
    "id": "HR_CObL76Dc_"
   },
   "outputs": [],
   "source": [
    "\n",
    "twitter = Twython(CONSUMER_KEY, CONSUMER_SECRET, oauth_token, oauth_secret)"
   ]
  },
  {
   "cell_type": "markdown",
   "metadata": {
    "colab_type": "text",
    "id": "eV2N8fPD6DdE"
   },
   "source": [
    "Voici un test avec une recherche très simple pour vous assurer que la requête fonctionne.\n",
    "\n",
    "La fonction search renvoie une recherche (non exhaustive) de tweets, et l'option \"*popular*\" permet de retourner les résultats les plus populaires de la réponse. (documentation ici: https://developer.twitter.com/en/docs/tweets/search/api-reference/get-search-tweets)"
   ]
  },
  {
   "cell_type": "code",
   "execution_count": 0,
   "metadata": {
    "colab": {},
    "colab_type": "code",
    "id": "VRm0q5Ky6DdG"
   },
   "outputs": [],
   "source": [
    "basic_search = twitter.search(q='python', result_type='popular')"
   ]
  },
  {
   "cell_type": "markdown",
   "metadata": {
    "colab_type": "text",
    "id": "28ZWWrQh6DdJ"
   },
   "source": [
    "La fonction `search` renvoie un dictionnaire contenant la liste de tweets de la requête, et les métadonnées.\n",
    "\n",
    "Voici un exemple d'un résultat d'une recherche, observez ainsi toutes les données/métadonnées que contient un tweet et que vous pouvez extraire par la suite:"
   ]
  },
  {
   "cell_type": "code",
   "execution_count": 0,
   "metadata": {
    "colab": {
     "base_uri": "https://localhost:8080/",
     "height": 1000
    },
    "colab_type": "code",
    "id": "YXzpsW8D6DdK",
    "outputId": "97b473be-69d1-467d-ab92-893bbb86cd70"
   },
   "outputs": [
    {
     "data": {
      "text/plain": [
       "{'created_at': 'Wed Nov 06 12:29:03 +0000 2019',\n",
       " 'id': 1192056298419957760,\n",
       " 'id_str': '1192056298419957760',\n",
       " 'text': 'Python 2 is reaching end of life. But what does that mean for existing ROS 1 distributions (Kinetic and Melodic) th… https://t.co/4cKrWYJsGj',\n",
       " 'truncated': True,\n",
       " 'entities': {'hashtags': [],\n",
       "  'symbols': [],\n",
       "  'user_mentions': [],\n",
       "  'urls': [{'url': 'https://t.co/4cKrWYJsGj',\n",
       "    'expanded_url': 'https://twitter.com/i/web/status/1192056298419957760',\n",
       "    'display_url': 'twitter.com/i/web/status/1…',\n",
       "    'indices': [117, 140]}]},\n",
       " 'metadata': {'result_type': 'popular', 'iso_language_code': 'en'},\n",
       " 'source': '<a href=\"https://coschedule.com\" rel=\"nofollow\">CoSchedule</a>',\n",
       " 'in_reply_to_status_id': None,\n",
       " 'in_reply_to_status_id_str': None,\n",
       " 'in_reply_to_user_id': None,\n",
       " 'in_reply_to_user_id_str': None,\n",
       " 'in_reply_to_screen_name': None,\n",
       " 'user': {'id': 2480951,\n",
       "  'id_str': '2480951',\n",
       "  'name': 'Ubuntu',\n",
       "  'screen_name': 'ubuntu',\n",
       "  'location': 'Desktop, Cloud, Server, Containers, and IoT',\n",
       "  'description': 'Ubuntu is an open source software operating system that runs from the desktop, to the cloud, to all your internet connected things',\n",
       "  'url': 'http://t.co/n3CFEx9Yxu',\n",
       "  'entities': {'url': {'urls': [{'url': 'http://t.co/n3CFEx9Yxu',\n",
       "      'expanded_url': 'http://www.ubuntu.com',\n",
       "      'display_url': 'ubuntu.com',\n",
       "      'indices': [0, 22]}]},\n",
       "   'description': {'urls': []}},\n",
       "  'protected': False,\n",
       "  'followers_count': 341773,\n",
       "  'friends_count': 1033,\n",
       "  'listed_count': 5252,\n",
       "  'created_at': 'Tue Mar 27 12:47:45 +0000 2007',\n",
       "  'favourites_count': 2740,\n",
       "  'utc_offset': None,\n",
       "  'time_zone': None,\n",
       "  'geo_enabled': True,\n",
       "  'verified': True,\n",
       "  'statuses_count': 9067,\n",
       "  'lang': None,\n",
       "  'contributors_enabled': False,\n",
       "  'is_translator': False,\n",
       "  'is_translation_enabled': False,\n",
       "  'profile_background_color': 'F5F8FA',\n",
       "  'profile_background_image_url': 'http://abs.twimg.com/images/themes/theme1/bg.png',\n",
       "  'profile_background_image_url_https': 'https://abs.twimg.com/images/themes/theme1/bg.png',\n",
       "  'profile_background_tile': False,\n",
       "  'profile_image_url': 'http://pbs.twimg.com/profile_images/1486153713/cof_orange_hex_normal.jpg',\n",
       "  'profile_image_url_https': 'https://pbs.twimg.com/profile_images/1486153713/cof_orange_hex_normal.jpg',\n",
       "  'profile_banner_url': 'https://pbs.twimg.com/profile_banners/2480951/1500401488',\n",
       "  'profile_link_color': 'DD4814',\n",
       "  'profile_sidebar_border_color': '87BC44',\n",
       "  'profile_sidebar_fill_color': 'E0FF92',\n",
       "  'profile_text_color': '000000',\n",
       "  'profile_use_background_image': False,\n",
       "  'has_extended_profile': False,\n",
       "  'default_profile': False,\n",
       "  'default_profile_image': False,\n",
       "  'following': False,\n",
       "  'follow_request_sent': False,\n",
       "  'notifications': False,\n",
       "  'translator_type': 'none'},\n",
       " 'geo': None,\n",
       " 'coordinates': None,\n",
       " 'place': None,\n",
       " 'contributors': None,\n",
       " 'is_quote_status': False,\n",
       " 'retweet_count': 45,\n",
       " 'favorite_count': 151,\n",
       " 'favorited': False,\n",
       " 'retweeted': False,\n",
       " 'possibly_sensitive': False,\n",
       " 'lang': 'en'}"
      ]
     },
     "execution_count": 5,
     "metadata": {
      "tags": []
     },
     "output_type": "execute_result"
    }
   ],
   "source": [
    "basic_search['statuses'][0]"
   ]
  },
  {
   "cell_type": "code",
   "execution_count": 0,
   "metadata": {
    "colab": {},
    "colab_type": "code",
    "id": "xX7yMNsbGo92"
   },
   "outputs": [],
   "source": []
  },
  {
   "cell_type": "markdown",
   "metadata": {
    "colab_type": "text",
    "id": "WF2uVa4p6DdN"
   },
   "source": [
    "Il est également possible avec Twython de récupérer les informations d'un tweet à partir de son ID. \n",
    "\n",
    "#### Question 1. Afficher la date, le nom d'utilisateur et le contenu du tweet ayant l'ID : 1157345692517634049 (0.5 Pts)\n",
    "\n",
    "*Indice : vous pourrez utiliser avec la fonction de twython `show_status`*"
   ]
  },
  {
   "cell_type": "code",
   "execution_count": 0,
   "metadata": {
    "colab": {
     "base_uri": "https://localhost:8080/",
     "height": 69
    },
    "colab_type": "code",
    "id": "YWNAvJ8b6DdP",
    "outputId": "3794e75a-c5de-4139-aada-db903c964b0d"
   },
   "outputs": [
    {
     "name": "stdout",
     "output_type": "stream",
     "text": [
      "Contenu: A$AP Rocky released from prison and on his way home to the United States from Sweden. It was a Rocky Week, get home ASAP A$AP!\n",
      "Date: Fri Aug 02 17:41:30 +0000 2019\n",
      "Utilisateur: realDonaldTrump\n"
     ]
    }
   ],
   "source": [
    "test_id = \"1157345692517634049\"\n",
    "tweet = twitter.show_status(id = test_id)\n",
    "print(\"Contenu: \" + tweet['text'])\n",
    "print(\"Date: \" + tweet[\"created_at\"])\n",
    "print(\"Utilisateur: \" + tweet[\"user\"][\"screen_name\"])\n",
    "\n"
   ]
  },
  {
   "cell_type": "markdown",
   "metadata": {
    "colab_type": "text",
    "id": "GgQnSPZ_6DdU"
   },
   "source": [
    "**Attention** : Twitter a une limitation de requête par fenêtre de 15 minutes, qui est donc à prendre en compte dans la base de données : https://developer.twitter.com/en/docs/basics/rate-limiting.html"
   ]
  },
  {
   "cell_type": "markdown",
   "metadata": {
    "colab_type": "text",
    "id": "ni7A2ZAK6DdW"
   },
   "source": [
    "### 3. Hydratation d'une base de donnée de tweets\n",
    "\n",
    "Les choses sérieuses commencent ! \n",
    "\n",
    "On souhaite désormais construire une fonction `hydrate_database` qui, à partir d'un fichier texte contenant une liste d'ID de tweets, créer un fichier csv contenant les informations que l'on souhaite extraire. \n",
    "\n",
    "Due à la limitation de requête, la fonction `show_status` vue plus haut s'avère peu efficace pour cette tâche : à raison de 900 requêtes pour 15 minutes, il sera beaucoup trop long de construire une base de données un tant soit peu conséquente. La fonction `lookup_status` (voir documentation) sera donc plus adaptée. Elle permettra d'hydrater 100 tweets par requête, ce qui, a raison d'une limite de 900 requêtes pour 15 minutes, rends la construction de la base de données plus réaliste. Il faudra tout de même gérer l'erreur générer par la limitation, si l'on souhaite avoir plus de 90000 tweets ou si l'on appelle plusieurs fois la fonction en moins de 15 minutes.\n",
    "\n",
    "#### Question 2. Implémenter la fonction `hydrate_database` (3.5 Pts)\n",
    "\n",
    "*Attention : Il faut également gérer le cas où la feature demandée n'est pas une clé du dictionnaire mais une \"sous-clé\", comme c'est le cas pour le nom d'utilisateur par exemple (accessible dans la feature *user*, qui lui même est un dictionnaire). Un moyen simple pour pallier à ce problème consiste à considérer la feature comme une liste, qui contiendrait la clé et les sous-clés si il y a lieu (voir exemple plus bas)\n",
    "\n",
    "*Indice : La fonction `sleep` du module time permet de patienter le temps nécessaire*"
   ]
  },
  {
   "cell_type": "code",
   "execution_count": 40,
   "metadata": {
    "colab": {},
    "colab_type": "code",
    "id": "B-3ACIR16DdX",
    "scrolled": true
   },
   "outputs": [],
   "source": [
    "def find_value_by_keys(dictionary, keys):\n",
    "  \"\"\" This finds the value of imbricated keys in a dictionary. \"\"\"\n",
    "  if len(keys) != 1:\n",
    "    return find_value_by_keys(dictionary[keys[0]], keys[1:])\n",
    "  else:\n",
    "    return dictionary[keys[0]]\n",
    "\n",
    "def hydrate_database(filename, database_name, \n",
    "                     features, nb_requests, \n",
    "                     tweet_hydratation_limit = 100):\n",
    "    \"\"\"\n",
    "    Create a csv file that contains features of tweets from an file that contains ID of tweets.\n",
    "    \n",
    "    filename: Name of the file that contains ids\n",
    "    database_name: name of the file that will be created\n",
    "    features: List of features\n",
    "    nb_requests: number of time the function lookup_status will be called\n",
    "    tweet_hydratation_limit:\n",
    "    \"\"\"\n",
    "    # Opening the ID File:\n",
    "    file = open(filename, \"r\")\n",
    "    \n",
    "    # Creation of the file that will contain the hydrated tweets:\n",
    "    with open(database_name, 'w', newline='', encoding=\"utf-8\") as csvfile:\n",
    "      csv_writer = csv.writer(csvfile)\n",
    "      headers = [\"-\".join(list_features) for list_features in features]\n",
    "      print(headers)\n",
    "      csv_writer.writerow(headers)\n",
    "  \n",
    "      try: # If you don't reach the limit of requests\n",
    "          content = file.readlines()                \n",
    "          index = 0\n",
    "\n",
    "          # you may also want to remove whitespace characters like `\\n` at the end of each line\n",
    "          content = [x.strip() for x in content]\n",
    "\n",
    "          for request in range(nb_requests):\n",
    "            requested_id = content[request*tweet_hydratation_limit: request*tweet_hydratation_limit + tweet_hydratation_limit + 1] \n",
    "            batch_hydrate = twitter.lookup_status(id = requested_id)\n",
    "            filtered_batch_hydrated = []\n",
    "            print('Requested %i tweets and received %i.' % (tweet_hydratation_limit, len(batch_hydrate)))\n",
    "            for tweet in batch_hydrate:\n",
    "              filtered_tweet = []\n",
    "              for feature in features:\n",
    "                filtered_tweet.append(find_value_by_keys(tweet, feature))\n",
    "              filtered_batch_hydrated.append(filtered_tweet)\n",
    "\n",
    "            csv_writer.writerows(filtered_batch_hydrated)\n",
    "            \n",
    "      except TwythonError as e:\n",
    "          if isinstance(e, TwythonRateLimitError):\n",
    "              retry_after = int(e.retry_after)\n",
    "              print('Rate Limit busted! Waiting for %i seconds before retrying' % retry_after)\n",
    "              time.sleep(retry_after)\n",
    "\n",
    "      except Exception as e:\n",
    "        print(e.message)\n",
    "              \n",
    "    file.close()\n",
    " "
   ]
  },
  {
   "cell_type": "markdown",
   "metadata": {
    "colab_type": "text",
    "id": "yW3h5SHN6Dde"
   },
   "source": [
    "Utilisez le fichier suivant en guise d'example : \n",
    "https://dataverse.harvard.edu/file.xhtml?persistentId=doi:10.7910/DVN/5QCCUU/QPYP8G&version=1.1\n",
    "\n",
    "On suppose qu'on ne souhaite garder que le texte (*text*) l'ID de l'utilisateur (*user/screen_name*)"
   ]
  },
  {
   "cell_type": "code",
   "execution_count": 41,
   "metadata": {
    "colab": {
     "base_uri": "https://localhost:8080/",
     "height": 1000
    },
    "colab_type": "code",
    "id": "ZTBO-y-j6Ddf",
    "outputId": "42b6f9f1-e0c4-4bc5-d337-3117cf2bd9a7"
   },
   "outputs": [
    {
     "name": "stdout",
     "output_type": "stream",
     "text": [
      "['text', 'user-screen_name', 'lang', 'created_at']\n",
      "Requested 99 tweets and received 99.\n",
      "Requested 99 tweets and received 100.\n",
      "Requested 99 tweets and received 99.\n",
      "Requested 99 tweets and received 100.\n",
      "Requested 99 tweets and received 100.\n",
      "Requested 99 tweets and received 100.\n",
      "Requested 99 tweets and received 99.\n",
      "Requested 99 tweets and received 100.\n",
      "Requested 99 tweets and received 100.\n",
      "Requested 99 tweets and received 100.\n",
      "Requested 99 tweets and received 99.\n",
      "Requested 99 tweets and received 100.\n",
      "Requested 99 tweets and received 99.\n",
      "Requested 99 tweets and received 98.\n",
      "Requested 99 tweets and received 100.\n",
      "Requested 99 tweets and received 100.\n",
      "Requested 99 tweets and received 100.\n",
      "Requested 99 tweets and received 100.\n",
      "Requested 99 tweets and received 100.\n",
      "Requested 99 tweets and received 97.\n",
      "Requested 99 tweets and received 100.\n",
      "Requested 99 tweets and received 99.\n",
      "Requested 99 tweets and received 100.\n",
      "Requested 99 tweets and received 100.\n",
      "Requested 99 tweets and received 100.\n",
      "Requested 99 tweets and received 100.\n",
      "Requested 99 tweets and received 96.\n",
      "Requested 99 tweets and received 100.\n",
      "Requested 99 tweets and received 100.\n",
      "Requested 99 tweets and received 100.\n",
      "Requested 99 tweets and received 100.\n",
      "Requested 99 tweets and received 100.\n",
      "Requested 99 tweets and received 100.\n",
      "Requested 99 tweets and received 99.\n",
      "Requested 99 tweets and received 100.\n",
      "Requested 99 tweets and received 100.\n",
      "Requested 99 tweets and received 100.\n",
      "Requested 99 tweets and received 100.\n",
      "Requested 99 tweets and received 100.\n",
      "Requested 99 tweets and received 100.\n",
      "Requested 99 tweets and received 100.\n",
      "Requested 99 tweets and received 99.\n",
      "Requested 99 tweets and received 99.\n",
      "Requested 99 tweets and received 100.\n",
      "Requested 99 tweets and received 99.\n",
      "Requested 99 tweets and received 100.\n",
      "Requested 99 tweets and received 100.\n",
      "Requested 99 tweets and received 100.\n",
      "Requested 99 tweets and received 100.\n",
      "Requested 99 tweets and received 98.\n",
      "Requested 99 tweets and received 100.\n",
      "Requested 99 tweets and received 100.\n",
      "Requested 99 tweets and received 99.\n",
      "Requested 99 tweets and received 100.\n",
      "Requested 99 tweets and received 99.\n",
      "Requested 99 tweets and received 100.\n",
      "Requested 99 tweets and received 100.\n",
      "Requested 99 tweets and received 100.\n",
      "Requested 99 tweets and received 100.\n",
      "Requested 99 tweets and received 100.\n",
      "Requested 99 tweets and received 100.\n",
      "Requested 99 tweets and received 100.\n",
      "Requested 99 tweets and received 100.\n",
      "Requested 99 tweets and received 100.\n",
      "Requested 99 tweets and received 100.\n",
      "Requested 99 tweets and received 99.\n",
      "Requested 99 tweets and received 81.\n",
      "Requested 99 tweets and received 81.\n",
      "Requested 99 tweets and received 96.\n",
      "Requested 99 tweets and received 100.\n",
      "Requested 99 tweets and received 100.\n",
      "Requested 99 tweets and received 100.\n",
      "Requested 99 tweets and received 100.\n",
      "Requested 99 tweets and received 100.\n",
      "Requested 99 tweets and received 99.\n",
      "Requested 99 tweets and received 99.\n",
      "Requested 99 tweets and received 100.\n",
      "Requested 99 tweets and received 98.\n",
      "Requested 99 tweets and received 99.\n",
      "Requested 99 tweets and received 100.\n",
      "Requested 99 tweets and received 100.\n",
      "Requested 99 tweets and received 100.\n",
      "Requested 99 tweets and received 100.\n",
      "Requested 99 tweets and received 100.\n",
      "Requested 99 tweets and received 24.\n",
      "Requested 99 tweets and received 0.\n",
      "Requested 99 tweets and received 0.\n",
      "Requested 99 tweets and received 0.\n",
      "Requested 99 tweets and received 0.\n",
      "Requested 99 tweets and received 0.\n",
      "Requested 99 tweets and received 0.\n",
      "Requested 99 tweets and received 0.\n",
      "Requested 99 tweets and received 0.\n",
      "Requested 99 tweets and received 0.\n",
      "Requested 99 tweets and received 0.\n",
      "Requested 99 tweets and received 0.\n",
      "Requested 99 tweets and received 0.\n",
      "Requested 99 tweets and received 0.\n",
      "Requested 99 tweets and received 0.\n",
      "Requested 99 tweets and received 0.\n",
      "Requested 99 tweets and received 0.\n",
      "Requested 99 tweets and received 0.\n",
      "Requested 99 tweets and received 0.\n",
      "Requested 99 tweets and received 0.\n",
      "Requested 99 tweets and received 0.\n",
      "Requested 99 tweets and received 0.\n",
      "Requested 99 tweets and received 0.\n",
      "Requested 99 tweets and received 0.\n",
      "Requested 99 tweets and received 0.\n",
      "Requested 99 tweets and received 0.\n",
      "Requested 99 tweets and received 0.\n",
      "Requested 99 tweets and received 0.\n",
      "Requested 99 tweets and received 0.\n",
      "Requested 99 tweets and received 0.\n",
      "Requested 99 tweets and received 0.\n",
      "Requested 99 tweets and received 0.\n",
      "Requested 99 tweets and received 0.\n",
      "Requested 99 tweets and received 0.\n",
      "Requested 99 tweets and received 0.\n",
      "Requested 99 tweets and received 0.\n",
      "Requested 99 tweets and received 0.\n",
      "Requested 99 tweets and received 0.\n",
      "Requested 99 tweets and received 0.\n",
      "Requested 99 tweets and received 0.\n",
      "Requested 99 tweets and received 0.\n",
      "Requested 99 tweets and received 0.\n",
      "Requested 99 tweets and received 0.\n",
      "Requested 99 tweets and received 0.\n",
      "Requested 99 tweets and received 0.\n",
      "Requested 99 tweets and received 0.\n",
      "Requested 99 tweets and received 0.\n",
      "Requested 99 tweets and received 0.\n",
      "Requested 99 tweets and received 0.\n",
      "Requested 99 tweets and received 0.\n",
      "Requested 99 tweets and received 0.\n",
      "Requested 99 tweets and received 0.\n",
      "Requested 99 tweets and received 0.\n",
      "Requested 99 tweets and received 0.\n",
      "Requested 99 tweets and received 0.\n",
      "Requested 99 tweets and received 0.\n",
      "Requested 99 tweets and received 0.\n",
      "Requested 99 tweets and received 0.\n",
      "Requested 99 tweets and received 0.\n",
      "Requested 99 tweets and received 0.\n",
      "Requested 99 tweets and received 0.\n",
      "Requested 99 tweets and received 0.\n",
      "Requested 99 tweets and received 0.\n",
      "Requested 99 tweets and received 0.\n",
      "Requested 99 tweets and received 0.\n",
      "Requested 99 tweets and received 0.\n",
      "Requested 99 tweets and received 0.\n",
      "Requested 99 tweets and received 0.\n",
      "Requested 99 tweets and received 0.\n",
      "Requested 99 tweets and received 0.\n",
      "Requested 99 tweets and received 0.\n",
      "Requested 99 tweets and received 0.\n",
      "Requested 99 tweets and received 0.\n",
      "Requested 99 tweets and received 0.\n",
      "Requested 99 tweets and received 0.\n",
      "Requested 99 tweets and received 0.\n",
      "Requested 99 tweets and received 0.\n",
      "Requested 99 tweets and received 0.\n",
      "Requested 99 tweets and received 0.\n",
      "Requested 99 tweets and received 0.\n",
      "Requested 99 tweets and received 0.\n",
      "Requested 99 tweets and received 0.\n",
      "Requested 99 tweets and received 0.\n",
      "Requested 99 tweets and received 0.\n",
      "Requested 99 tweets and received 0.\n",
      "Requested 99 tweets and received 0.\n",
      "Requested 99 tweets and received 0.\n",
      "Requested 99 tweets and received 0.\n",
      "Requested 99 tweets and received 0.\n",
      "Requested 99 tweets and received 0.\n",
      "Requested 99 tweets and received 0.\n",
      "Requested 99 tweets and received 0.\n",
      "Requested 99 tweets and received 0.\n",
      "Requested 99 tweets and received 0.\n",
      "Requested 99 tweets and received 0.\n",
      "Requested 99 tweets and received 0.\n",
      "Requested 99 tweets and received 0.\n",
      "Requested 99 tweets and received 0.\n",
      "Requested 99 tweets and received 0.\n",
      "Requested 99 tweets and received 0.\n",
      "Requested 99 tweets and received 0.\n",
      "Requested 99 tweets and received 0.\n",
      "Requested 99 tweets and received 0.\n",
      "Requested 99 tweets and received 0.\n",
      "Requested 99 tweets and received 0.\n",
      "Requested 99 tweets and received 0.\n",
      "Requested 99 tweets and received 0.\n",
      "Requested 99 tweets and received 0.\n",
      "Requested 99 tweets and received 0.\n",
      "Requested 99 tweets and received 0.\n",
      "Requested 99 tweets and received 0.\n",
      "Requested 99 tweets and received 0.\n",
      "Requested 99 tweets and received 0.\n",
      "Requested 99 tweets and received 0.\n",
      "Requested 99 tweets and received 0.\n",
      "Requested 99 tweets and received 0.\n",
      "Requested 99 tweets and received 0.\n",
      "Requested 99 tweets and received 0.\n",
      "Requested 99 tweets and received 0.\n",
      "Requested 99 tweets and received 0.\n",
      "Requested 99 tweets and received 0.\n",
      "Requested 99 tweets and received 0.\n",
      "Requested 99 tweets and received 0.\n",
      "Requested 99 tweets and received 0.\n",
      "Requested 99 tweets and received 0.\n",
      "Requested 99 tweets and received 0.\n",
      "Requested 99 tweets and received 0.\n",
      "Requested 99 tweets and received 0.\n",
      "Requested 99 tweets and received 0.\n",
      "Requested 99 tweets and received 0.\n",
      "Requested 99 tweets and received 0.\n",
      "Requested 99 tweets and received 0.\n",
      "Requested 99 tweets and received 0.\n",
      "Requested 99 tweets and received 0.\n",
      "Requested 99 tweets and received 0.\n",
      "Requested 99 tweets and received 0.\n",
      "Requested 99 tweets and received 0.\n",
      "Requested 99 tweets and received 0.\n",
      "Requested 99 tweets and received 0.\n",
      "Requested 99 tweets and received 0.\n"
     ]
    },
    {
     "name": "stdout",
     "output_type": "stream",
     "text": [
      "Requested 99 tweets and received 0.\n",
      "Requested 99 tweets and received 0.\n",
      "Requested 99 tweets and received 0.\n",
      "Requested 99 tweets and received 0.\n",
      "Requested 99 tweets and received 0.\n",
      "Requested 99 tweets and received 0.\n",
      "Requested 99 tweets and received 0.\n",
      "Requested 99 tweets and received 0.\n",
      "Requested 99 tweets and received 0.\n",
      "Requested 99 tweets and received 0.\n",
      "Requested 99 tweets and received 0.\n",
      "Requested 99 tweets and received 0.\n",
      "Requested 99 tweets and received 0.\n",
      "Requested 99 tweets and received 0.\n",
      "Requested 99 tweets and received 0.\n",
      "Requested 99 tweets and received 0.\n",
      "Requested 99 tweets and received 0.\n",
      "Requested 99 tweets and received 0.\n",
      "Requested 99 tweets and received 0.\n",
      "Requested 99 tweets and received 0.\n",
      "Requested 99 tweets and received 0.\n",
      "Requested 99 tweets and received 0.\n",
      "Requested 99 tweets and received 0.\n",
      "Requested 99 tweets and received 0.\n",
      "Requested 99 tweets and received 0.\n",
      "Requested 99 tweets and received 0.\n",
      "Requested 99 tweets and received 0.\n",
      "Requested 99 tweets and received 0.\n",
      "Requested 99 tweets and received 0.\n",
      "Requested 99 tweets and received 0.\n",
      "Requested 99 tweets and received 0.\n",
      "Requested 99 tweets and received 0.\n",
      "Requested 99 tweets and received 0.\n",
      "Requested 99 tweets and received 0.\n",
      "Requested 99 tweets and received 0.\n",
      "Requested 99 tweets and received 0.\n",
      "Requested 99 tweets and received 0.\n",
      "Requested 99 tweets and received 0.\n",
      "Requested 99 tweets and received 0.\n",
      "Requested 99 tweets and received 0.\n",
      "Requested 99 tweets and received 0.\n",
      "Requested 99 tweets and received 0.\n",
      "Requested 99 tweets and received 0.\n",
      "Requested 99 tweets and received 0.\n",
      "Requested 99 tweets and received 0.\n",
      "Requested 99 tweets and received 0.\n",
      "Requested 99 tweets and received 0.\n",
      "Requested 99 tweets and received 0.\n",
      "Requested 99 tweets and received 0.\n",
      "Requested 99 tweets and received 0.\n",
      "Requested 99 tweets and received 0.\n",
      "Requested 99 tweets and received 0.\n",
      "Requested 99 tweets and received 0.\n",
      "Requested 99 tweets and received 0.\n",
      "Requested 99 tweets and received 0.\n",
      "Requested 99 tweets and received 0.\n",
      "Requested 99 tweets and received 0.\n",
      "Requested 99 tweets and received 0.\n",
      "Requested 99 tweets and received 0.\n",
      "Requested 99 tweets and received 0.\n",
      "Requested 99 tweets and received 0.\n",
      "Requested 99 tweets and received 0.\n",
      "Requested 99 tweets and received 0.\n",
      "Requested 99 tweets and received 0.\n",
      "Requested 99 tweets and received 0.\n",
      "Requested 99 tweets and received 0.\n",
      "Requested 99 tweets and received 0.\n",
      "Requested 99 tweets and received 0.\n",
      "Requested 99 tweets and received 0.\n",
      "Requested 99 tweets and received 0.\n",
      "Requested 99 tweets and received 0.\n",
      "Requested 99 tweets and received 0.\n",
      "Requested 99 tweets and received 0.\n",
      "Requested 99 tweets and received 0.\n",
      "Requested 99 tweets and received 0.\n",
      "Requested 99 tweets and received 0.\n",
      "Requested 99 tweets and received 0.\n",
      "Requested 99 tweets and received 0.\n",
      "Requested 99 tweets and received 0.\n",
      "Requested 99 tweets and received 0.\n",
      "Requested 99 tweets and received 0.\n",
      "Requested 99 tweets and received 0.\n",
      "Requested 99 tweets and received 0.\n",
      "Requested 99 tweets and received 0.\n",
      "Requested 99 tweets and received 0.\n",
      "Requested 99 tweets and received 0.\n",
      "Requested 99 tweets and received 0.\n",
      "Requested 99 tweets and received 0.\n",
      "Requested 99 tweets and received 0.\n",
      "Requested 99 tweets and received 0.\n",
      "Requested 99 tweets and received 0.\n",
      "Requested 99 tweets and received 0.\n",
      "Requested 99 tweets and received 0.\n",
      "Requested 99 tweets and received 0.\n",
      "Requested 99 tweets and received 0.\n",
      "Requested 99 tweets and received 0.\n",
      "Requested 99 tweets and received 0.\n",
      "Requested 99 tweets and received 0.\n",
      "Requested 99 tweets and received 0.\n",
      "Requested 99 tweets and received 0.\n",
      "Requested 99 tweets and received 0.\n",
      "Requested 99 tweets and received 0.\n",
      "Requested 99 tweets and received 0.\n",
      "Requested 99 tweets and received 0.\n",
      "Requested 99 tweets and received 0.\n",
      "Requested 99 tweets and received 0.\n",
      "Requested 99 tweets and received 0.\n",
      "Requested 99 tweets and received 0.\n",
      "Requested 99 tweets and received 0.\n",
      "Requested 99 tweets and received 0.\n",
      "Requested 99 tweets and received 0.\n",
      "Requested 99 tweets and received 0.\n",
      "Requested 99 tweets and received 0.\n",
      "Requested 99 tweets and received 0.\n",
      "Requested 99 tweets and received 0.\n",
      "Requested 99 tweets and received 0.\n",
      "Requested 99 tweets and received 0.\n",
      "Requested 99 tweets and received 0.\n",
      "Requested 99 tweets and received 0.\n",
      "Requested 99 tweets and received 0.\n",
      "Requested 99 tweets and received 0.\n",
      "Requested 99 tweets and received 0.\n",
      "Requested 99 tweets and received 0.\n",
      "Requested 99 tweets and received 0.\n",
      "Requested 99 tweets and received 0.\n",
      "Requested 99 tweets and received 0.\n",
      "Requested 99 tweets and received 0.\n",
      "Requested 99 tweets and received 0.\n",
      "Requested 99 tweets and received 0.\n",
      "Requested 99 tweets and received 0.\n",
      "Requested 99 tweets and received 0.\n",
      "Requested 99 tweets and received 0.\n",
      "Requested 99 tweets and received 0.\n",
      "Requested 99 tweets and received 0.\n",
      "Requested 99 tweets and received 0.\n",
      "Requested 99 tweets and received 0.\n",
      "Requested 99 tweets and received 0.\n",
      "Requested 99 tweets and received 0.\n",
      "Requested 99 tweets and received 0.\n",
      "Requested 99 tweets and received 0.\n",
      "Requested 99 tweets and received 0.\n",
      "Requested 99 tweets and received 0.\n",
      "Requested 99 tweets and received 0.\n",
      "Requested 99 tweets and received 0.\n",
      "Requested 99 tweets and received 0.\n",
      "Requested 99 tweets and received 0.\n",
      "Requested 99 tweets and received 0.\n",
      "Requested 99 tweets and received 0.\n",
      "Requested 99 tweets and received 0.\n",
      "Requested 99 tweets and received 0.\n",
      "Requested 99 tweets and received 0.\n",
      "Requested 99 tweets and received 0.\n",
      "Requested 99 tweets and received 0.\n",
      "Requested 99 tweets and received 0.\n",
      "Requested 99 tweets and received 0.\n",
      "Requested 99 tweets and received 0.\n",
      "Requested 99 tweets and received 0.\n",
      "Requested 99 tweets and received 0.\n",
      "Requested 99 tweets and received 0.\n",
      "Requested 99 tweets and received 0.\n",
      "Requested 99 tweets and received 0.\n",
      "Requested 99 tweets and received 0.\n",
      "Requested 99 tweets and received 0.\n",
      "Requested 99 tweets and received 0.\n",
      "Requested 99 tweets and received 0.\n",
      "Requested 99 tweets and received 0.\n",
      "Requested 99 tweets and received 0.\n",
      "Requested 99 tweets and received 0.\n",
      "Requested 99 tweets and received 0.\n",
      "Requested 99 tweets and received 0.\n",
      "Requested 99 tweets and received 0.\n",
      "Requested 99 tweets and received 0.\n",
      "Requested 99 tweets and received 0.\n",
      "Requested 99 tweets and received 0.\n",
      "Requested 99 tweets and received 0.\n",
      "Requested 99 tweets and received 0.\n",
      "Requested 99 tweets and received 0.\n",
      "Requested 99 tweets and received 0.\n",
      "Requested 99 tweets and received 0.\n",
      "Requested 99 tweets and received 0.\n",
      "Requested 99 tweets and received 0.\n",
      "Requested 99 tweets and received 0.\n",
      "Requested 99 tweets and received 0.\n",
      "Requested 99 tweets and received 0.\n",
      "Requested 99 tweets and received 0.\n",
      "Requested 99 tweets and received 0.\n",
      "Requested 99 tweets and received 0.\n",
      "Requested 99 tweets and received 0.\n",
      "Requested 99 tweets and received 0.\n",
      "Requested 99 tweets and received 0.\n",
      "Requested 99 tweets and received 0.\n",
      "Requested 99 tweets and received 0.\n",
      "Requested 99 tweets and received 0.\n",
      "Requested 99 tweets and received 0.\n",
      "Requested 99 tweets and received 0.\n",
      "Requested 99 tweets and received 0.\n",
      "Requested 99 tweets and received 0.\n",
      "Requested 99 tweets and received 0.\n",
      "Requested 99 tweets and received 0.\n",
      "Requested 99 tweets and received 0.\n",
      "Requested 99 tweets and received 0.\n",
      "Requested 99 tweets and received 0.\n",
      "Requested 99 tweets and received 0.\n",
      "Requested 99 tweets and received 0.\n",
      "Requested 99 tweets and received 0.\n",
      "Requested 99 tweets and received 0.\n",
      "Requested 99 tweets and received 0.\n",
      "Requested 99 tweets and received 0.\n",
      "Requested 99 tweets and received 0.\n",
      "Requested 99 tweets and received 0.\n",
      "Requested 99 tweets and received 0.\n",
      "Requested 99 tweets and received 0.\n",
      "Requested 99 tweets and received 0.\n",
      "Requested 99 tweets and received 0.\n",
      "Requested 99 tweets and received 0.\n",
      "Requested 99 tweets and received 0.\n",
      "Requested 99 tweets and received 0.\n",
      "Requested 99 tweets and received 0.\n",
      "Requested 99 tweets and received 0.\n",
      "Requested 99 tweets and received 0.\n",
      "Requested 99 tweets and received 0.\n",
      "Requested 99 tweets and received 0.\n",
      "Requested 99 tweets and received 0.\n",
      "Requested 99 tweets and received 0.\n",
      "Requested 99 tweets and received 0.\n",
      "Requested 99 tweets and received 0.\n"
     ]
    },
    {
     "ename": "KeyboardInterrupt",
     "evalue": "",
     "output_type": "error",
     "traceback": [
      "\u001b[0;31m---------------------------------------------------------------------------\u001b[0m",
      "\u001b[0;31mKeyboardInterrupt\u001b[0m                         Traceback (most recent call last)",
      "\u001b[0;32m<ipython-input-41-3df4a1b83963>\u001b[0m in \u001b[0;36m<module>\u001b[0;34m\u001b[0m\n\u001b[1;32m      6\u001b[0m \u001b[0mnb_requests\u001b[0m \u001b[0;34m=\u001b[0m \u001b[0;36m500\u001b[0m\u001b[0;34m\u001b[0m\u001b[0;34m\u001b[0m\u001b[0m\n\u001b[1;32m      7\u001b[0m \u001b[0;34m\u001b[0m\u001b[0m\n\u001b[0;32m----> 8\u001b[0;31m \u001b[0mhydrate_database\u001b[0m\u001b[0;34m(\u001b[0m\u001b[0mfilename\u001b[0m\u001b[0;34m,\u001b[0m \u001b[0mdatabase_name\u001b[0m\u001b[0;34m,\u001b[0m \u001b[0mfeatures\u001b[0m\u001b[0;34m,\u001b[0m \u001b[0mnb_requests\u001b[0m\u001b[0;34m,\u001b[0m \u001b[0mtweet_hydratation_limit\u001b[0m\u001b[0;34m=\u001b[0m\u001b[0;36m99\u001b[0m\u001b[0;34m)\u001b[0m\u001b[0;34m\u001b[0m\u001b[0;34m\u001b[0m\u001b[0m\n\u001b[0m",
      "\u001b[0;32m<ipython-input-40-22a6639c569b>\u001b[0m in \u001b[0;36mhydrate_database\u001b[0;34m(filename, database_name, features, nb_requests, tweet_hydratation_limit)\u001b[0m\n\u001b[1;32m     37\u001b[0m           \u001b[0;32mfor\u001b[0m \u001b[0mrequest\u001b[0m \u001b[0;32min\u001b[0m \u001b[0mrange\u001b[0m\u001b[0;34m(\u001b[0m\u001b[0mnb_requests\u001b[0m\u001b[0;34m)\u001b[0m\u001b[0;34m:\u001b[0m\u001b[0;34m\u001b[0m\u001b[0;34m\u001b[0m\u001b[0m\n\u001b[1;32m     38\u001b[0m             \u001b[0mrequested_id\u001b[0m \u001b[0;34m=\u001b[0m \u001b[0mcontent\u001b[0m\u001b[0;34m[\u001b[0m\u001b[0mrequest\u001b[0m\u001b[0;34m*\u001b[0m\u001b[0mtweet_hydratation_limit\u001b[0m\u001b[0;34m:\u001b[0m \u001b[0mrequest\u001b[0m\u001b[0;34m*\u001b[0m\u001b[0mtweet_hydratation_limit\u001b[0m \u001b[0;34m+\u001b[0m \u001b[0mtweet_hydratation_limit\u001b[0m \u001b[0;34m+\u001b[0m \u001b[0;36m1\u001b[0m\u001b[0;34m]\u001b[0m\u001b[0;34m\u001b[0m\u001b[0;34m\u001b[0m\u001b[0m\n\u001b[0;32m---> 39\u001b[0;31m             \u001b[0mbatch_hydrate\u001b[0m \u001b[0;34m=\u001b[0m \u001b[0mtwitter\u001b[0m\u001b[0;34m.\u001b[0m\u001b[0mlookup_status\u001b[0m\u001b[0;34m(\u001b[0m\u001b[0mid\u001b[0m \u001b[0;34m=\u001b[0m \u001b[0mrequested_id\u001b[0m\u001b[0;34m)\u001b[0m\u001b[0;34m\u001b[0m\u001b[0;34m\u001b[0m\u001b[0m\n\u001b[0m\u001b[1;32m     40\u001b[0m             \u001b[0mfiltered_batch_hydrated\u001b[0m \u001b[0;34m=\u001b[0m \u001b[0;34m[\u001b[0m\u001b[0;34m]\u001b[0m\u001b[0;34m\u001b[0m\u001b[0;34m\u001b[0m\u001b[0m\n\u001b[1;32m     41\u001b[0m             \u001b[0mprint\u001b[0m\u001b[0;34m(\u001b[0m\u001b[0;34m'Requested %i tweets and received %i.'\u001b[0m \u001b[0;34m%\u001b[0m \u001b[0;34m(\u001b[0m\u001b[0mtweet_hydratation_limit\u001b[0m\u001b[0;34m,\u001b[0m \u001b[0mlen\u001b[0m\u001b[0;34m(\u001b[0m\u001b[0mbatch_hydrate\u001b[0m\u001b[0;34m)\u001b[0m\u001b[0;34m)\u001b[0m\u001b[0;34m)\u001b[0m\u001b[0;34m\u001b[0m\u001b[0;34m\u001b[0m\u001b[0m\n",
      "\u001b[0;32m~/.local/lib/python3.6/site-packages/twython/endpoints.py\u001b[0m in \u001b[0;36mlookup_status\u001b[0;34m(self, **params)\u001b[0m\n\u001b[1;32m    103\u001b[0m \u001b[0;34m\u001b[0m\u001b[0m\n\u001b[1;32m    104\u001b[0m         \"\"\"\n\u001b[0;32m--> 105\u001b[0;31m         \u001b[0;32mreturn\u001b[0m \u001b[0mself\u001b[0m\u001b[0;34m.\u001b[0m\u001b[0mpost\u001b[0m\u001b[0;34m(\u001b[0m\u001b[0;34m'statuses/lookup'\u001b[0m\u001b[0;34m,\u001b[0m \u001b[0mparams\u001b[0m\u001b[0;34m=\u001b[0m\u001b[0mparams\u001b[0m\u001b[0;34m)\u001b[0m\u001b[0;34m\u001b[0m\u001b[0;34m\u001b[0m\u001b[0m\n\u001b[0m\u001b[1;32m    106\u001b[0m \u001b[0;34m\u001b[0m\u001b[0m\n\u001b[1;32m    107\u001b[0m     \u001b[0;32mdef\u001b[0m \u001b[0mdestroy_status\u001b[0m\u001b[0;34m(\u001b[0m\u001b[0mself\u001b[0m\u001b[0;34m,\u001b[0m \u001b[0;34m**\u001b[0m\u001b[0mparams\u001b[0m\u001b[0;34m)\u001b[0m\u001b[0;34m:\u001b[0m\u001b[0;34m\u001b[0m\u001b[0;34m\u001b[0m\u001b[0m\n",
      "\u001b[0;32m~/.local/lib/python3.6/site-packages/twython/api.py\u001b[0m in \u001b[0;36mpost\u001b[0;34m(self, endpoint, params, version)\u001b[0m\n\u001b[1;32m    272\u001b[0m     \u001b[0;32mdef\u001b[0m \u001b[0mpost\u001b[0m\u001b[0;34m(\u001b[0m\u001b[0mself\u001b[0m\u001b[0;34m,\u001b[0m \u001b[0mendpoint\u001b[0m\u001b[0;34m,\u001b[0m \u001b[0mparams\u001b[0m\u001b[0;34m=\u001b[0m\u001b[0;32mNone\u001b[0m\u001b[0;34m,\u001b[0m \u001b[0mversion\u001b[0m\u001b[0;34m=\u001b[0m\u001b[0;34m'1.1'\u001b[0m\u001b[0;34m)\u001b[0m\u001b[0;34m:\u001b[0m\u001b[0;34m\u001b[0m\u001b[0;34m\u001b[0m\u001b[0m\n\u001b[1;32m    273\u001b[0m         \u001b[0;34m\"\"\"Shortcut for POST requests via :class:`request`\"\"\"\u001b[0m\u001b[0;34m\u001b[0m\u001b[0;34m\u001b[0m\u001b[0m\n\u001b[0;32m--> 274\u001b[0;31m         \u001b[0;32mreturn\u001b[0m \u001b[0mself\u001b[0m\u001b[0;34m.\u001b[0m\u001b[0mrequest\u001b[0m\u001b[0;34m(\u001b[0m\u001b[0mendpoint\u001b[0m\u001b[0;34m,\u001b[0m \u001b[0;34m'POST'\u001b[0m\u001b[0;34m,\u001b[0m \u001b[0mparams\u001b[0m\u001b[0;34m=\u001b[0m\u001b[0mparams\u001b[0m\u001b[0;34m,\u001b[0m \u001b[0mversion\u001b[0m\u001b[0;34m=\u001b[0m\u001b[0mversion\u001b[0m\u001b[0;34m)\u001b[0m\u001b[0;34m\u001b[0m\u001b[0;34m\u001b[0m\u001b[0m\n\u001b[0m\u001b[1;32m    275\u001b[0m \u001b[0;34m\u001b[0m\u001b[0m\n\u001b[1;32m    276\u001b[0m     \u001b[0;32mdef\u001b[0m \u001b[0mget_lastfunction_header\u001b[0m\u001b[0;34m(\u001b[0m\u001b[0mself\u001b[0m\u001b[0;34m,\u001b[0m \u001b[0mheader\u001b[0m\u001b[0;34m,\u001b[0m \u001b[0mdefault_return_value\u001b[0m\u001b[0;34m=\u001b[0m\u001b[0;32mNone\u001b[0m\u001b[0;34m)\u001b[0m\u001b[0;34m:\u001b[0m\u001b[0;34m\u001b[0m\u001b[0;34m\u001b[0m\u001b[0m\n",
      "\u001b[0;32m~/.local/lib/python3.6/site-packages/twython/api.py\u001b[0m in \u001b[0;36mrequest\u001b[0;34m(self, endpoint, method, params, version)\u001b[0m\n\u001b[1;32m    262\u001b[0m \u001b[0;34m\u001b[0m\u001b[0m\n\u001b[1;32m    263\u001b[0m         content = self._request(url, method=method, params=params,\n\u001b[0;32m--> 264\u001b[0;31m                                 api_call=url)\n\u001b[0m\u001b[1;32m    265\u001b[0m \u001b[0;34m\u001b[0m\u001b[0m\n\u001b[1;32m    266\u001b[0m         \u001b[0;32mreturn\u001b[0m \u001b[0mcontent\u001b[0m\u001b[0;34m\u001b[0m\u001b[0;34m\u001b[0m\u001b[0m\n",
      "\u001b[0;32m~/.local/lib/python3.6/site-packages/twython/api.py\u001b[0m in \u001b[0;36m_request\u001b[0;34m(self, url, method, params, api_call)\u001b[0m\n\u001b[1;32m    162\u001b[0m             })\n\u001b[1;32m    163\u001b[0m         \u001b[0;32mtry\u001b[0m\u001b[0;34m:\u001b[0m\u001b[0;34m\u001b[0m\u001b[0;34m\u001b[0m\u001b[0m\n\u001b[0;32m--> 164\u001b[0;31m             \u001b[0mresponse\u001b[0m \u001b[0;34m=\u001b[0m \u001b[0mfunc\u001b[0m\u001b[0;34m(\u001b[0m\u001b[0murl\u001b[0m\u001b[0;34m,\u001b[0m \u001b[0;34m**\u001b[0m\u001b[0mrequests_args\u001b[0m\u001b[0;34m)\u001b[0m\u001b[0;34m\u001b[0m\u001b[0;34m\u001b[0m\u001b[0m\n\u001b[0m\u001b[1;32m    165\u001b[0m         \u001b[0;32mexcept\u001b[0m \u001b[0mrequests\u001b[0m\u001b[0;34m.\u001b[0m\u001b[0mRequestException\u001b[0m \u001b[0;32mas\u001b[0m \u001b[0me\u001b[0m\u001b[0;34m:\u001b[0m\u001b[0;34m\u001b[0m\u001b[0;34m\u001b[0m\u001b[0m\n\u001b[1;32m    166\u001b[0m             \u001b[0;32mraise\u001b[0m \u001b[0mTwythonError\u001b[0m\u001b[0;34m(\u001b[0m\u001b[0mstr\u001b[0m\u001b[0;34m(\u001b[0m\u001b[0me\u001b[0m\u001b[0;34m)\u001b[0m\u001b[0;34m)\u001b[0m\u001b[0;34m\u001b[0m\u001b[0;34m\u001b[0m\u001b[0m\n",
      "\u001b[0;32m~/miniconda3/envs/py3/lib/python3.6/site-packages/requests/sessions.py\u001b[0m in \u001b[0;36mpost\u001b[0;34m(self, url, data, json, **kwargs)\u001b[0m\n\u001b[1;32m    579\u001b[0m         \"\"\"\n\u001b[1;32m    580\u001b[0m \u001b[0;34m\u001b[0m\u001b[0m\n\u001b[0;32m--> 581\u001b[0;31m         \u001b[0;32mreturn\u001b[0m \u001b[0mself\u001b[0m\u001b[0;34m.\u001b[0m\u001b[0mrequest\u001b[0m\u001b[0;34m(\u001b[0m\u001b[0;34m'POST'\u001b[0m\u001b[0;34m,\u001b[0m \u001b[0murl\u001b[0m\u001b[0;34m,\u001b[0m \u001b[0mdata\u001b[0m\u001b[0;34m=\u001b[0m\u001b[0mdata\u001b[0m\u001b[0;34m,\u001b[0m \u001b[0mjson\u001b[0m\u001b[0;34m=\u001b[0m\u001b[0mjson\u001b[0m\u001b[0;34m,\u001b[0m \u001b[0;34m**\u001b[0m\u001b[0mkwargs\u001b[0m\u001b[0;34m)\u001b[0m\u001b[0;34m\u001b[0m\u001b[0;34m\u001b[0m\u001b[0m\n\u001b[0m\u001b[1;32m    582\u001b[0m \u001b[0;34m\u001b[0m\u001b[0m\n\u001b[1;32m    583\u001b[0m     \u001b[0;32mdef\u001b[0m \u001b[0mput\u001b[0m\u001b[0;34m(\u001b[0m\u001b[0mself\u001b[0m\u001b[0;34m,\u001b[0m \u001b[0murl\u001b[0m\u001b[0;34m,\u001b[0m \u001b[0mdata\u001b[0m\u001b[0;34m=\u001b[0m\u001b[0;32mNone\u001b[0m\u001b[0;34m,\u001b[0m \u001b[0;34m**\u001b[0m\u001b[0mkwargs\u001b[0m\u001b[0;34m)\u001b[0m\u001b[0;34m:\u001b[0m\u001b[0;34m\u001b[0m\u001b[0;34m\u001b[0m\u001b[0m\n",
      "\u001b[0;32m~/miniconda3/envs/py3/lib/python3.6/site-packages/requests/sessions.py\u001b[0m in \u001b[0;36mrequest\u001b[0;34m(self, method, url, params, data, headers, cookies, files, auth, timeout, allow_redirects, proxies, hooks, stream, verify, cert, json)\u001b[0m\n\u001b[1;32m    531\u001b[0m         }\n\u001b[1;32m    532\u001b[0m         \u001b[0msend_kwargs\u001b[0m\u001b[0;34m.\u001b[0m\u001b[0mupdate\u001b[0m\u001b[0;34m(\u001b[0m\u001b[0msettings\u001b[0m\u001b[0;34m)\u001b[0m\u001b[0;34m\u001b[0m\u001b[0;34m\u001b[0m\u001b[0m\n\u001b[0;32m--> 533\u001b[0;31m         \u001b[0mresp\u001b[0m \u001b[0;34m=\u001b[0m \u001b[0mself\u001b[0m\u001b[0;34m.\u001b[0m\u001b[0msend\u001b[0m\u001b[0;34m(\u001b[0m\u001b[0mprep\u001b[0m\u001b[0;34m,\u001b[0m \u001b[0;34m**\u001b[0m\u001b[0msend_kwargs\u001b[0m\u001b[0;34m)\u001b[0m\u001b[0;34m\u001b[0m\u001b[0;34m\u001b[0m\u001b[0m\n\u001b[0m\u001b[1;32m    534\u001b[0m \u001b[0;34m\u001b[0m\u001b[0m\n\u001b[1;32m    535\u001b[0m         \u001b[0;32mreturn\u001b[0m \u001b[0mresp\u001b[0m\u001b[0;34m\u001b[0m\u001b[0;34m\u001b[0m\u001b[0m\n",
      "\u001b[0;32m~/miniconda3/envs/py3/lib/python3.6/site-packages/requests/sessions.py\u001b[0m in \u001b[0;36msend\u001b[0;34m(self, request, **kwargs)\u001b[0m\n\u001b[1;32m    644\u001b[0m \u001b[0;34m\u001b[0m\u001b[0m\n\u001b[1;32m    645\u001b[0m         \u001b[0;31m# Send the request\u001b[0m\u001b[0;34m\u001b[0m\u001b[0;34m\u001b[0m\u001b[0;34m\u001b[0m\u001b[0m\n\u001b[0;32m--> 646\u001b[0;31m         \u001b[0mr\u001b[0m \u001b[0;34m=\u001b[0m \u001b[0madapter\u001b[0m\u001b[0;34m.\u001b[0m\u001b[0msend\u001b[0m\u001b[0;34m(\u001b[0m\u001b[0mrequest\u001b[0m\u001b[0;34m,\u001b[0m \u001b[0;34m**\u001b[0m\u001b[0mkwargs\u001b[0m\u001b[0;34m)\u001b[0m\u001b[0;34m\u001b[0m\u001b[0;34m\u001b[0m\u001b[0m\n\u001b[0m\u001b[1;32m    647\u001b[0m \u001b[0;34m\u001b[0m\u001b[0m\n\u001b[1;32m    648\u001b[0m         \u001b[0;31m# Total elapsed time of the request (approximately)\u001b[0m\u001b[0;34m\u001b[0m\u001b[0;34m\u001b[0m\u001b[0;34m\u001b[0m\u001b[0m\n",
      "\u001b[0;32m~/miniconda3/envs/py3/lib/python3.6/site-packages/requests/adapters.py\u001b[0m in \u001b[0;36msend\u001b[0;34m(self, request, stream, timeout, verify, cert, proxies)\u001b[0m\n\u001b[1;32m    447\u001b[0m                     \u001b[0mdecode_content\u001b[0m\u001b[0;34m=\u001b[0m\u001b[0;32mFalse\u001b[0m\u001b[0;34m,\u001b[0m\u001b[0;34m\u001b[0m\u001b[0;34m\u001b[0m\u001b[0m\n\u001b[1;32m    448\u001b[0m                     \u001b[0mretries\u001b[0m\u001b[0;34m=\u001b[0m\u001b[0mself\u001b[0m\u001b[0;34m.\u001b[0m\u001b[0mmax_retries\u001b[0m\u001b[0;34m,\u001b[0m\u001b[0;34m\u001b[0m\u001b[0;34m\u001b[0m\u001b[0m\n\u001b[0;32m--> 449\u001b[0;31m                     \u001b[0mtimeout\u001b[0m\u001b[0;34m=\u001b[0m\u001b[0mtimeout\u001b[0m\u001b[0;34m\u001b[0m\u001b[0;34m\u001b[0m\u001b[0m\n\u001b[0m\u001b[1;32m    450\u001b[0m                 )\n\u001b[1;32m    451\u001b[0m \u001b[0;34m\u001b[0m\u001b[0m\n",
      "\u001b[0;32m~/miniconda3/envs/py3/lib/python3.6/site-packages/urllib3/connectionpool.py\u001b[0m in \u001b[0;36murlopen\u001b[0;34m(self, method, url, body, headers, retries, redirect, assert_same_host, timeout, pool_timeout, release_conn, chunked, body_pos, **response_kw)\u001b[0m\n\u001b[1;32m    601\u001b[0m                                                   \u001b[0mtimeout\u001b[0m\u001b[0;34m=\u001b[0m\u001b[0mtimeout_obj\u001b[0m\u001b[0;34m,\u001b[0m\u001b[0;34m\u001b[0m\u001b[0;34m\u001b[0m\u001b[0m\n\u001b[1;32m    602\u001b[0m                                                   \u001b[0mbody\u001b[0m\u001b[0;34m=\u001b[0m\u001b[0mbody\u001b[0m\u001b[0;34m,\u001b[0m \u001b[0mheaders\u001b[0m\u001b[0;34m=\u001b[0m\u001b[0mheaders\u001b[0m\u001b[0;34m,\u001b[0m\u001b[0;34m\u001b[0m\u001b[0;34m\u001b[0m\u001b[0m\n\u001b[0;32m--> 603\u001b[0;31m                                                   chunked=chunked)\n\u001b[0m\u001b[1;32m    604\u001b[0m \u001b[0;34m\u001b[0m\u001b[0m\n\u001b[1;32m    605\u001b[0m             \u001b[0;31m# If we're going to release the connection in ``finally:``, then\u001b[0m\u001b[0;34m\u001b[0m\u001b[0;34m\u001b[0m\u001b[0;34m\u001b[0m\u001b[0m\n",
      "\u001b[0;32m~/miniconda3/envs/py3/lib/python3.6/site-packages/urllib3/connectionpool.py\u001b[0m in \u001b[0;36m_make_request\u001b[0;34m(self, conn, method, url, timeout, chunked, **httplib_request_kw)\u001b[0m\n\u001b[1;32m    342\u001b[0m         \u001b[0;31m# Trigger any extra validation we need to do.\u001b[0m\u001b[0;34m\u001b[0m\u001b[0;34m\u001b[0m\u001b[0;34m\u001b[0m\u001b[0m\n\u001b[1;32m    343\u001b[0m         \u001b[0;32mtry\u001b[0m\u001b[0;34m:\u001b[0m\u001b[0;34m\u001b[0m\u001b[0;34m\u001b[0m\u001b[0m\n\u001b[0;32m--> 344\u001b[0;31m             \u001b[0mself\u001b[0m\u001b[0;34m.\u001b[0m\u001b[0m_validate_conn\u001b[0m\u001b[0;34m(\u001b[0m\u001b[0mconn\u001b[0m\u001b[0;34m)\u001b[0m\u001b[0;34m\u001b[0m\u001b[0;34m\u001b[0m\u001b[0m\n\u001b[0m\u001b[1;32m    345\u001b[0m         \u001b[0;32mexcept\u001b[0m \u001b[0;34m(\u001b[0m\u001b[0mSocketTimeout\u001b[0m\u001b[0;34m,\u001b[0m \u001b[0mBaseSSLError\u001b[0m\u001b[0;34m)\u001b[0m \u001b[0;32mas\u001b[0m \u001b[0me\u001b[0m\u001b[0;34m:\u001b[0m\u001b[0;34m\u001b[0m\u001b[0;34m\u001b[0m\u001b[0m\n\u001b[1;32m    346\u001b[0m             \u001b[0;31m# Py2 raises this as a BaseSSLError, Py3 raises it as socket timeout.\u001b[0m\u001b[0;34m\u001b[0m\u001b[0;34m\u001b[0m\u001b[0;34m\u001b[0m\u001b[0m\n",
      "\u001b[0;32m~/miniconda3/envs/py3/lib/python3.6/site-packages/urllib3/connectionpool.py\u001b[0m in \u001b[0;36m_validate_conn\u001b[0;34m(self, conn)\u001b[0m\n\u001b[1;32m    841\u001b[0m         \u001b[0;31m# Force connect early to allow us to validate the connection.\u001b[0m\u001b[0;34m\u001b[0m\u001b[0;34m\u001b[0m\u001b[0;34m\u001b[0m\u001b[0m\n\u001b[1;32m    842\u001b[0m         \u001b[0;32mif\u001b[0m \u001b[0;32mnot\u001b[0m \u001b[0mgetattr\u001b[0m\u001b[0;34m(\u001b[0m\u001b[0mconn\u001b[0m\u001b[0;34m,\u001b[0m \u001b[0;34m'sock'\u001b[0m\u001b[0;34m,\u001b[0m \u001b[0;32mNone\u001b[0m\u001b[0;34m)\u001b[0m\u001b[0;34m:\u001b[0m  \u001b[0;31m# AppEngine might not have  `.sock`\u001b[0m\u001b[0;34m\u001b[0m\u001b[0;34m\u001b[0m\u001b[0m\n\u001b[0;32m--> 843\u001b[0;31m             \u001b[0mconn\u001b[0m\u001b[0;34m.\u001b[0m\u001b[0mconnect\u001b[0m\u001b[0;34m(\u001b[0m\u001b[0;34m)\u001b[0m\u001b[0;34m\u001b[0m\u001b[0;34m\u001b[0m\u001b[0m\n\u001b[0m\u001b[1;32m    844\u001b[0m \u001b[0;34m\u001b[0m\u001b[0m\n\u001b[1;32m    845\u001b[0m         \u001b[0;32mif\u001b[0m \u001b[0;32mnot\u001b[0m \u001b[0mconn\u001b[0m\u001b[0;34m.\u001b[0m\u001b[0mis_verified\u001b[0m\u001b[0;34m:\u001b[0m\u001b[0;34m\u001b[0m\u001b[0;34m\u001b[0m\u001b[0m\n",
      "\u001b[0;32m~/miniconda3/envs/py3/lib/python3.6/site-packages/urllib3/connection.py\u001b[0m in \u001b[0;36mconnect\u001b[0;34m(self)\u001b[0m\n\u001b[1;32m    368\u001b[0m             \u001b[0mca_cert_dir\u001b[0m\u001b[0;34m=\u001b[0m\u001b[0mself\u001b[0m\u001b[0;34m.\u001b[0m\u001b[0mca_cert_dir\u001b[0m\u001b[0;34m,\u001b[0m\u001b[0;34m\u001b[0m\u001b[0;34m\u001b[0m\u001b[0m\n\u001b[1;32m    369\u001b[0m             \u001b[0mserver_hostname\u001b[0m\u001b[0;34m=\u001b[0m\u001b[0mserver_hostname\u001b[0m\u001b[0;34m,\u001b[0m\u001b[0;34m\u001b[0m\u001b[0;34m\u001b[0m\u001b[0m\n\u001b[0;32m--> 370\u001b[0;31m             ssl_context=context)\n\u001b[0m\u001b[1;32m    371\u001b[0m \u001b[0;34m\u001b[0m\u001b[0m\n\u001b[1;32m    372\u001b[0m         \u001b[0;32mif\u001b[0m \u001b[0mself\u001b[0m\u001b[0;34m.\u001b[0m\u001b[0massert_fingerprint\u001b[0m\u001b[0;34m:\u001b[0m\u001b[0;34m\u001b[0m\u001b[0;34m\u001b[0m\u001b[0m\n",
      "\u001b[0;32m~/miniconda3/envs/py3/lib/python3.6/site-packages/urllib3/util/ssl_.py\u001b[0m in \u001b[0;36mssl_wrap_socket\u001b[0;34m(sock, keyfile, certfile, cert_reqs, ca_certs, server_hostname, ssl_version, ciphers, ssl_context, ca_cert_dir, key_password)\u001b[0m\n\u001b[1;32m    353\u001b[0m             or IS_SECURETRANSPORT):\n\u001b[1;32m    354\u001b[0m         \u001b[0;32mif\u001b[0m \u001b[0mHAS_SNI\u001b[0m \u001b[0;32mand\u001b[0m \u001b[0mserver_hostname\u001b[0m \u001b[0;32mis\u001b[0m \u001b[0;32mnot\u001b[0m \u001b[0;32mNone\u001b[0m\u001b[0;34m:\u001b[0m\u001b[0;34m\u001b[0m\u001b[0;34m\u001b[0m\u001b[0m\n\u001b[0;32m--> 355\u001b[0;31m             \u001b[0;32mreturn\u001b[0m \u001b[0mcontext\u001b[0m\u001b[0;34m.\u001b[0m\u001b[0mwrap_socket\u001b[0m\u001b[0;34m(\u001b[0m\u001b[0msock\u001b[0m\u001b[0;34m,\u001b[0m \u001b[0mserver_hostname\u001b[0m\u001b[0;34m=\u001b[0m\u001b[0mserver_hostname\u001b[0m\u001b[0;34m)\u001b[0m\u001b[0;34m\u001b[0m\u001b[0;34m\u001b[0m\u001b[0m\n\u001b[0m\u001b[1;32m    356\u001b[0m \u001b[0;34m\u001b[0m\u001b[0m\n\u001b[1;32m    357\u001b[0m         warnings.warn(\n",
      "\u001b[0;32m~/miniconda3/envs/py3/lib/python3.6/site-packages/urllib3/contrib/pyopenssl.py\u001b[0m in \u001b[0;36mwrap_socket\u001b[0;34m(self, sock, server_side, do_handshake_on_connect, suppress_ragged_eofs, server_hostname)\u001b[0m\n\u001b[1;32m    470\u001b[0m         \u001b[0;32mwhile\u001b[0m \u001b[0;32mTrue\u001b[0m\u001b[0;34m:\u001b[0m\u001b[0;34m\u001b[0m\u001b[0;34m\u001b[0m\u001b[0m\n\u001b[1;32m    471\u001b[0m             \u001b[0;32mtry\u001b[0m\u001b[0;34m:\u001b[0m\u001b[0;34m\u001b[0m\u001b[0;34m\u001b[0m\u001b[0m\n\u001b[0;32m--> 472\u001b[0;31m                 \u001b[0mcnx\u001b[0m\u001b[0;34m.\u001b[0m\u001b[0mdo_handshake\u001b[0m\u001b[0;34m(\u001b[0m\u001b[0;34m)\u001b[0m\u001b[0;34m\u001b[0m\u001b[0;34m\u001b[0m\u001b[0m\n\u001b[0m\u001b[1;32m    473\u001b[0m             \u001b[0;32mexcept\u001b[0m \u001b[0mOpenSSL\u001b[0m\u001b[0;34m.\u001b[0m\u001b[0mSSL\u001b[0m\u001b[0;34m.\u001b[0m\u001b[0mWantReadError\u001b[0m\u001b[0;34m:\u001b[0m\u001b[0;34m\u001b[0m\u001b[0;34m\u001b[0m\u001b[0m\n\u001b[1;32m    474\u001b[0m                 \u001b[0;32mif\u001b[0m \u001b[0;32mnot\u001b[0m \u001b[0mutil\u001b[0m\u001b[0;34m.\u001b[0m\u001b[0mwait_for_read\u001b[0m\u001b[0;34m(\u001b[0m\u001b[0msock\u001b[0m\u001b[0;34m,\u001b[0m \u001b[0msock\u001b[0m\u001b[0;34m.\u001b[0m\u001b[0mgettimeout\u001b[0m\u001b[0;34m(\u001b[0m\u001b[0;34m)\u001b[0m\u001b[0;34m)\u001b[0m\u001b[0;34m:\u001b[0m\u001b[0;34m\u001b[0m\u001b[0;34m\u001b[0m\u001b[0m\n",
      "\u001b[0;32m~/miniconda3/envs/py3/lib/python3.6/site-packages/OpenSSL/SSL.py\u001b[0m in \u001b[0;36mdo_handshake\u001b[0;34m(self)\u001b[0m\n\u001b[1;32m   1912\u001b[0m         \u001b[0;34m:\u001b[0m\u001b[0;32mreturn\u001b[0m\u001b[0;34m:\u001b[0m \u001b[0;32mNone\u001b[0m\u001b[0;34m.\u001b[0m\u001b[0;34m\u001b[0m\u001b[0;34m\u001b[0m\u001b[0m\n\u001b[1;32m   1913\u001b[0m         \"\"\"\n\u001b[0;32m-> 1914\u001b[0;31m         \u001b[0mresult\u001b[0m \u001b[0;34m=\u001b[0m \u001b[0m_lib\u001b[0m\u001b[0;34m.\u001b[0m\u001b[0mSSL_do_handshake\u001b[0m\u001b[0;34m(\u001b[0m\u001b[0mself\u001b[0m\u001b[0;34m.\u001b[0m\u001b[0m_ssl\u001b[0m\u001b[0;34m)\u001b[0m\u001b[0;34m\u001b[0m\u001b[0;34m\u001b[0m\u001b[0m\n\u001b[0m\u001b[1;32m   1915\u001b[0m         \u001b[0mself\u001b[0m\u001b[0;34m.\u001b[0m\u001b[0m_raise_ssl_error\u001b[0m\u001b[0;34m(\u001b[0m\u001b[0mself\u001b[0m\u001b[0;34m.\u001b[0m\u001b[0m_ssl\u001b[0m\u001b[0;34m,\u001b[0m \u001b[0mresult\u001b[0m\u001b[0;34m)\u001b[0m\u001b[0;34m\u001b[0m\u001b[0;34m\u001b[0m\u001b[0m\n\u001b[1;32m   1916\u001b[0m \u001b[0;34m\u001b[0m\u001b[0m\n",
      "\u001b[0;31mKeyboardInterrupt\u001b[0m: "
     ]
    }
   ],
   "source": [
    "\n",
    "\n",
    "filename = \"gwu/tweet_news.txt\"\n",
    "database_name = \"data/news_outlets1.csv\"\n",
    "features = [['text'], ['user', 'screen_name'],['lang'],[\"created_at\"]]\n",
    "nb_requests = 500\n",
    "\n",
    "hydrate_database(filename, database_name, features, nb_requests, tweet_hydratation_limit=99)"
   ]
  },
  {
   "cell_type": "markdown",
   "metadata": {
    "colab_type": "text",
    "id": "KpLO9_9L6Ddo"
   },
   "source": [
    "# II/ Analyse d'une base de données au choix (16 pts)\n",
    "\n",
    "Maintenant que vous êtes en mesure d'hydrater une base de données de tweets efficacement et en prenant en compte les limitations de Twitter, vous pouvez l'appliquer sur le *dataset* qui vous intéresse le plus.\n",
    "\n",
    "### 1. Instructions\n",
    "\n",
    "Dans cette partie, vous allez mener **entièrement** de vous-même un projet de *Data Science*, c'est à dire de la collecte des données jusqu'à l'interprétation des résultats. 3 sujets sont proposés, vous devez choisir celui qui vous intéresse le plus parmi :\n",
    " \n",
    " 1. Analyse de sentiments pour la prédiction des résultats de l'élection américaine. \n",
    "    \n",
    "    **Dataset :** \"2016 United States Presidential Election Tweet Ids\", https://doi.org/10.7910/DVN/PDI7IN  \n",
    "    \n",
    "    **Précision :** Ce sujet est assez similaire au TP1 (avec ici sentiment = parti politique), vous êtes donc libre de reprendre ce que vous aviez fait. Cependant, il faudrait aller un peu plus en profondeur ici, par exemple sur l'étape de la classification. De plus, vous avez ici une nouvelle problématique qui est que vos données ne sont pas labellisés (mais la construction des collections devrait vous permettre de labelliser vous-même).\n",
    " \n",
    " \n",
    " 2. Détection de discours d'incitation à la haine.\n",
    "    \n",
    "    **Dataset :** Modifier votre fonction d'hydratation en utilisant la fonction search pour n'avoir que des tweets récents.\n",
    " \n",
    "     **Précision :** Ce sujet pourrait également être abordé de la même manière que le TP1 : des étapes de preprocessing + de la classification. Néanmoins, dans ce cas, posséder des données avec des labels \"incitant à la haine\"/\"n'insite pas à la haine\" est beaucoup plus complexe, car beaucoup de bases de données étiquetés, lors de l'hydratation, se trouveront être quasi-vide, car les tweets auront été supprimés au moment où nous ferons notre requête (car Twitter veille aussi à la suppression de tweets haineux). C'est pourquoi vous êtes obligés de créer une base de données avec des tweets les plus récents possibles, avant qu'ils ne soient potentiellement supprimés. Pour désigner un tweet comme haineux, une méthode serait la détection de vocabulaire haineux, par exemple avec `hatebase.org`, qui propose des larges bases de données très complètes. Vous pouvez créer un compte sur le site pour avoir accès à l'API, et ensuite utiliser cette librairie pour Python : https://github.com/DanielJDufour/hatebase. En modifiant la requête pour n'avoir que des tweets contenant ce vocabulaire, et en le mêlant à de l'analyse de sentiment, vous pourrez obtenir des résultats à analyser. Vous pourriez aussi avoir une approche \"utilisateur\" pour rechercher des tweets haineux : lorsqu'un tweet est détecter comme haineux, inspecter l'ensemble des tweets de l'utilisateur et/ou de ses *followers*. En bref, beaucoup de possibilités, mais ce sujet est le plus complexe des trois. Je serai donc moins exigeant sur les résultats 'chiffrés', l'important ici étant plus l'analyse, et le fait d'avoir une approche cohérente (il est également très important de prendre le temps de réfléchir à une définition claire de \"haineux\").\n",
    "\n",
    "\n",
    " 3. Méthodes de clusterings appliqué au tweet sur l'actualité, et analyse des résultats. \n",
    "    \n",
    "    **Dataset :** \"News Outlet Tweet Ids\", https://doi.org/10.7910/DVN/2FIFLH\n",
    "\n",
    "    **Précision :** Application de méthodes de preprocessing, puis de méthodes de clustering pour regrouper les tweets qui mentionnent la même actualité ou catégorie d'actualité (au choix!), puis visualisation, étude en fonction du temps...  Vous devrez trouver quelle est la meilleur méthode de clustering, et celle-ci dépendra de votre approche (nombre de classes connu ? si oui, combien de classes?). \n",
    "    \n",
    "    \n",
    "Vous êtes entièrement libre sur l'ensemble du processus (choix des informations extraites, méthodes en ML, librairie, etc.). Ici seul les bases de données en elle-même sont rigoureusement imposés. Les précisions faites ici servent juste pour vous guider un peu si vous le souhaitez, mais si vous avez d'autres idées n'hésitez pas ! Ces sujets étant populaires au sein de la communauté scientifique, vous pouvez (**seulement si vous le souhaitez**) vous inspirer d'articles de la littérature, à condition de le citer dans votre rapport et de faire votre propre implémentation. \n",
    "\n",
    "#### L'objectif cependant ici n'est pas d'obtenir l'état de l'art, mais d'appliquer une méthodologie claire et rigoureuse que vous aurez construite vous-même. \n",
    "\n",
    "Les datasets étant massifs, il est fortement déconseillé de faire une base de données contenant tous les tweets hydratés (par exemple, les auteurs de la BDD n°1 soulignent qu'avec les limitations de l'API cela vous prendrait environ 32 jours). C'est à vous de voir quelle est la taille du dataset dont vous avez besoin.\n",
    "\n",
    "Pensez aussi à lire le fichier README correspondant à la base que vous avez choisi, afin de vous aider à mieux comprendre vos futurs résultats.\n",
    "\n",
    "### 2. Rédaction d'un rapport\n",
    "\n",
    "Pour ce TP, vous allez devoir fournir un rapport qui détail et justifie l'ensemble de votre méthode, et qui fournisse les résultats que vous avez obtenus. Les éléments suivants doivent y apparaitre (cela peut vous servir de plan, mais ce n'est pas rigide) :\n",
    "\n",
    "- Titre du projet, et nom de l'ensemble des membres de l'équipe (avec mail et matricule)\n",
    "    \n",
    "- **Introduction** : résumé du problème, de la méthodologie et des résultats obtenus.\n",
    "\n",
    "- **Présentation du dataset** : description, justification de la taille, du choix des features, etc. \n",
    "\n",
    "- **Preprocessing** : s'il y en a, justification des étapes de preprocessing.\n",
    "\n",
    "- **Methodologie** : description et justification de l'ensemble des choix (algorithmes, hyper-paramètres, régularisation, métriques, etc.)\n",
    "\n",
    "- **Résultats** : analyse des résultats obtenus (utilisez des figures pour illustrer), mise en relation entre les choix de design et la performance obtenue.\n",
    "\n",
    "- **Discussion** : discutez des avantages et des inconvénients de votre approche; quels sont les faiblesses, les failles ? Qu'est-ce qu'il peut être amélioré ? Vous pouvez également suggérer des futures idées d'exploration.\n",
    "\n",
    "- **Références** : si vous vous êtes inspiré d'une étude déjà faite.\n",
    "    \n",
    "Vous pouvez utiliser le template d'arXiv pour le rapport : https://fr.overleaf.com/latex/templates/style-and-template-for-preprints-arxiv-bio-arxiv/fxsnsrzpnvwc. **L'ensemble du rapport ne doit cependant pas excéder 5 pages, figures et références compris.** Les 5 pages ne sont pas obligatoires, si vous estimez que moins est suffisant et que votre rapport est effectivement complet, vous ne serez pas pénalisé.\n",
    "\n",
    "\n",
    "### 3. Rendu attendu\n",
    "\n",
    "A la fin du TP, vous soumettrez un fichier *zip* contenant les éléments suivants:\n",
    "\n",
    "- Le fichier *pdf* du rapport\n",
    "- Ce notebook que vous aurez complété. Vous pouvez également implémenter votre méthode à la suite ici, ou alors utiliser un autre fichier si vous le souhaitez. Bien que seul le rapport servira pour la notation, ayez un code commenté et clair !\n",
    "- Ne pas envoyer les fichiers de données, car trop conséquent. Avec le rapport et le code, tout sera détaillé et il sera possible de les refaire facilement.\n",
    "\n",
    "### 4. Evalutation\n",
    "\n",
    "12 points de cette partie sera basé sur la méthodologie, et 4 points sur les résultats.\n",
    "\n",
    "La notation sur la méthodologie inclus : \n",
    "\n",
    "- La pertinence de l'ensemble des étapes de l'approche\n",
    "\n",
    "- La bonne description des algorithmes choisis\n",
    "\n",
    "- La justification judicieuse des choix établis\n",
    "\n",
    "- Une analyse pertinente des résultats\n",
    "\n",
    "- La clarté et l'organisation du rapport (figures, tables) et du code.\n",
    "\n",
    "\n",
    "Pour ce qui est des résultats, il est impossible de mettre un barème fixe car ils vont dépendre du sujet que vous allez choisir. C'est un problème auquel vous serez confrontés : chaque étude étant spécifique, il peut être compliqué d'évaluer qualitativement un modèle, d'autant que vous n'avez sans doute pas connaissance de l'état de l'art. C'est pourquoi il va être important de faire plusieurs essais, et de comparer différentes méthodes. Ainsi, les résultats doivent être cohérent avec la complexité de votre implémentation : un modèle simple et naïf vous fournira des premiers résultats, que vous devrez ensuite améliorer avec des modèles plus précis et complexes.\n",
    "\n",
    "De ce fait, l'ensemble des points pour les résultats seront donnés si : \n",
    " - Vous obtenez des premiers résultats avec une méthode naïve qui témoignent de la pertinence de vos choix \n",
    " - Ces résultats sont ensuite améliorés avec une méthode plus complexe\n",
    " "
   ]
  },
  {
   "cell_type": "code",
   "execution_count": 0,
   "metadata": {
    "colab": {},
    "colab_type": "code",
    "id": "ngT0tZDxAW4j"
   },
   "outputs": [],
   "source": []
  },
  {
   "cell_type": "markdown",
   "metadata": {
    "colab_type": "text",
    "id": "MeOcnyBZAdMg"
   },
   "source": [
    "## 1. Jeu de données\n"
   ]
  },
  {
   "cell_type": "code",
   "execution_count": 42,
   "metadata": {
    "colab": {
     "base_uri": "https://localhost:8080/",
     "height": 86
    },
    "colab_type": "code",
    "id": "CAr33OrGe4j1",
    "outputId": "d7a39a8a-7c90-419a-ef13-dfe44fa1188e"
   },
   "outputs": [
    {
     "name": "stdout",
     "output_type": "stream",
     "text": [
      "Length of training set :  3572\n",
      "Length of validation set :  785\n",
      "Length of test set :  770\n",
      ".@jeremycorbyn calls on @BorisJohnson to come clean about Skripal attack, Novichok &amp; Russia https://t.co/UMqpbMKsLY\n",
      "Mexican army involved in students disappearance two years ago, author says https://t.co/iBJITTRfwI https://t.co/yFaZ9cuHKq\n",
      "The TV series Netflix wishes it had bought  https://t.co/U2UP12hgcz https://t.co/oRClyBG5tP\n",
      "Trump official who once cut exâs brake lines thinks Parkland may be an FBI/pedophile conspiracy:â¦ https://t.co/6CfCiXPwAx\n",
      "Albuquerque, N.M., embarked on a novel campaign to reduce panhandling by offering them day jobs. Has it worked? https://t.co/ztAAAu1Ow4\n",
      "Central London plunged into darkness after power cut https://t.co/MNQvoPsr01\n",
      "My late husband interviewed Trump for a golf magazine. To process my grief, I looked for the tapeâ¦ https://t.co/4H8e7cDIBC\n",
      "Ranveer Singh( @RanveerOfficial ) on the controversial advertisement \n",
      "\n",
      "Watch here: https://t.co/h7xOMkshSW andâ¦ https://t.co/k9qi640w9k\n"
     ]
    }
   ],
   "source": [
    "## Read all tweetcontent in csv and put it in a Matrix\n",
    "import csv\n",
    "from sklearn.model_selection import train_test_split\n",
    "\n",
    "def load_dataset(path):\n",
    "    \n",
    "    x = []\n",
    "\n",
    "    with open(path, 'r', newline='', encoding=\"latin-1\") as csvfile:\n",
    "        \n",
    "        reader = csv.reader(csvfile, delimiter=',')\n",
    "        \n",
    "        # Taking the header of the file + the index of useful columns:\n",
    "        header = next(reader)\n",
    "        ind_text = header.index('text')\n",
    "        index_language = header.index('lang')\n",
    "        \n",
    "        for row in reader:\n",
    "            if row[index_language] == \"en\":\n",
    "                x.append(row[ind_text])\n",
    "\n",
    "        return x\n",
    "\n",
    "\n",
    "# Path of the dataset\n",
    "path = \"data/news_outlets1.csv\"\n",
    "\n",
    "X = load_dataset(path)\n",
    "\n",
    "train_valid_X, test_X = train_test_split(X,test_size=0.15, random_state=12)\n",
    "\n",
    "train_X, valid_X, = train_test_split(train_valid_X, test_size=0.18, random_state=12)\n",
    "\n",
    "print(\"Length of training set : \", len(train_X))\n",
    "print(\"Length of validation set : \", len(valid_X))\n",
    "print(\"Length of test set : \", len(test_X))\n",
    "for tweet in train_X[50:58]:\n",
    "    print(tweet)"
   ]
  },
  {
   "cell_type": "markdown",
   "metadata": {
    "colab_type": "text",
    "id": "_GzruIidao17"
   },
   "source": [
    "## 2. Pre-Processing\n"
   ]
  },
  {
   "cell_type": "markdown",
   "metadata": {
    "colab_type": "text",
    "id": "w6QGw9uKgvUN"
   },
   "source": [
    "### Twitter Pre-Processing utilisant des expressions régulières"
   ]
  },
  {
   "cell_type": "code",
   "execution_count": 43,
   "metadata": {
    "colab": {
     "base_uri": "https://localhost:8080/",
     "height": 86
    },
    "colab_type": "code",
    "id": "mi2kfLK-g44p",
    "outputId": "f88ee4e1-4102-4312-c8f5-b1496e7e5819"
   },
   "outputs": [
    {
     "name": "stdout",
     "output_type": "stream",
     "text": [
      "['What s happening is stop and search is a tactic that s used in association with street crime says former police o', 'Andrew Luck live right now', 'The Times s archival coverage of Fidel Castro includes an interview with the young guerrilla leader in']\n"
     ]
    }
   ],
   "source": [
    "import re\n",
    "\n",
    "def remove_retweets(tweets):\n",
    "    \"\"\"\n",
    "    Removes RT at the beginning of messages\n",
    "    \"\"\"\n",
    "    resultTweets = []\n",
    "    for tweet in tweets:\n",
    "        if tweet.split(' ', 1)[0] == \"RT\":\n",
    "              resultTweets.append(tweet.split(' ', 1)[1])\n",
    "        else:\n",
    "              resultTweets.append(tweet)\n",
    "    return resultTweets\n",
    "\n",
    "def remove_HTTP_links(tweets):\n",
    "    \"\"\"\n",
    "    Removes all HTTP and HTTPS links\n",
    "    \"\"\"\n",
    "    return [re.sub(r\"http\\S+\", \"\", tweet) for tweet in tweets]\n",
    "\n",
    "def remove_mentions(tweets):\n",
    "    \"\"\"\n",
    "    Removes all mentions including the mentioned user nametag\n",
    "    \"\"\"\n",
    "    resultTweets = []\n",
    "    for tweet in tweets:\n",
    "        mentions = re.findall(\"@[\\w]*\", tweet)\n",
    "        for mention in mentions:\n",
    "            tweet = re.sub(mention, \"\", tweet)\n",
    "        resultTweets.append(tweet)\n",
    "\n",
    "    return resultTweets       \n",
    "\n",
    "def remove_non_letter_characters(tweets):\n",
    "    \"\"\"\n",
    "    Removes all characters that is not a letter or a hastag, because we only want to analyze texts.\n",
    "    \"\"\"\n",
    "    return [re.sub(\"[^a-zA-Z#]\", \" \", tweet) for tweet in tweets]\n",
    "    \n",
    "def remove_white_spaces(tweets):\n",
    "    \"\"\"\n",
    "    Removes all whitespace characters (tabs, newline, spaces) and only puts one space\n",
    "    \"\"\"\n",
    "    return [\" \".join(tweet.split()) for tweet in tweets]\n",
    "\n",
    "def remove_hashtag_character(tweets):\n",
    "    \"\"\"\n",
    "    Removes the '#' character from the tweets\n",
    "    \"\"\"\n",
    "    return [re.sub(\"[#]\", \"\", tweet) for tweet in tweets]\n",
    "\n",
    "test = [\"RT allo\", \"RT allo un peu oue\", \"allo claudia https://\", \"RT @claudia: blabal\", \"allo @claudia #hihi, aj bla @jérémie\"]\n",
    "\n",
    "test = train_X[0:3]\n",
    "\n",
    "test = remove_HTTP_links(test)\n",
    "test = remove_retweets(test)\n",
    "test = remove_mentions(test)\n",
    "test = remove_non_letter_characters(test)\n",
    "test = remove_white_spaces(test)\n",
    "test = remove_hashtag_character(test)\n",
    "print(test)\n",
    "\n",
    "## Separer Le #"
   ]
  },
  {
   "cell_type": "markdown",
   "metadata": {
    "colab_type": "text",
    "id": "4PCHHCIDoxvt"
   },
   "source": [
    "### 3.1. Tokenization"
   ]
  },
  {
   "cell_type": "code",
   "execution_count": 0,
   "metadata": {
    "colab": {},
    "colab_type": "code",
    "id": "I_UJ47Nco8Es"
   },
   "outputs": [],
   "source": [
    "from nltk.tokenize import TweetTokenizer\n",
    "\n",
    "class SpaceTokenizer(object):\n",
    "    \"\"\"\n",
    "    It tokenizes the tokens that are separated by whitespace (space, tab, newline). \n",
    "    We consider that any tokenization was applied in the text when we use this tokenizer.\n",
    "\n",
    "    For example: \"hello\\tworld of\\nNLP\" is split in ['hello', 'world', 'of', 'NLP']\n",
    "    \"\"\"\n",
    "\n",
    "    def tokenize(self, text):\n",
    "        # TODO\n",
    "        # Returns a list of lowered case tokens\n",
    "\n",
    "        tokens = text.lower().split()\n",
    "        return tokens\n",
    "\n",
    "\n",
    "class NLTKTokenizer(object):\n",
    "    \"\"\"\n",
    "    This tokenizer uses the default function of nltk package (https://www.nltk.org/api/nltk.html) to tokenize the text.\n",
    "    \"\"\"\n",
    "\n",
    "    def tokenize(self, text):\n",
    "        # TODO\n",
    "        # Returns a list of lowered case tokens\n",
    "\n",
    "        tokenizer = TweetTokenizer(preserve_case=False)\n",
    "        tokens = tokenizer.tokenize(text)\n",
    "        \n",
    "        return tokens"
   ]
  },
  {
   "cell_type": "markdown",
   "metadata": {
    "colab_type": "text",
    "id": "WB6Q2X9oox4C"
   },
   "source": [
    "### 2.2. Troncature (ou Stemming)"
   ]
  },
  {
   "cell_type": "code",
   "execution_count": 0,
   "metadata": {
    "colab": {},
    "colab_type": "code",
    "id": "hCfqBZZnpHhH"
   },
   "outputs": [],
   "source": [
    "from nltk.stem.snowball import SnowballStemmer\n",
    "\n",
    "\n",
    "class Stemmer(object):\n",
    "\n",
    "    def __init__(self):\n",
    "        self.stemmer = SnowballStemmer(\"english\", ignore_stopwords=True)\n",
    "\n",
    "    def stem(self, tokens):\n",
    "        # TODO\n",
    "        # Have to return a list of stems\n",
    "\n",
    "        stems = []\n",
    "        for token in tokens:\n",
    "            token = self.stemmer.stem(token)\n",
    "            if token != \"\":\n",
    "                stems.append(token)\n",
    "        return stems  "
   ]
  },
  {
   "cell_type": "markdown",
   "metadata": {
    "colab_type": "text",
    "id": "PU-Mpqysoq4D"
   },
   "source": [
    "###2.3 Twitter Pre-Processing\n"
   ]
  },
  {
   "cell_type": "code",
   "execution_count": 0,
   "metadata": {
    "colab": {},
    "colab_type": "code",
    "id": "45F-s0dWnYBj"
   },
   "outputs": [],
   "source": [
    "import string\n",
    "from nltk.corpus import stopwords, wordnet\n",
    "from nltk.stem import WordNetLemmatizer \n",
    "from copy import deepcopy\n",
    "\n",
    "\n",
    "class TwitterPreprocessing(object):\n",
    "\n",
    "  def __init__(self):\n",
    "    self.lemmatizer = WordNetLemmatizer()\n",
    "\n",
    "  def preprocess(self, tweet):\n",
    "    \"\"\"\n",
    "      tweet: original tweet where tweet is a list of tokens\n",
    "    \"\"\"\n",
    "    \n",
    "    # TODO : Write your preprocessing steps here.\n",
    "    # We inspired our preprocessing steps from this article\n",
    "    # https://medium.com/@datamonsters/text-preprocessing-in-python-steps-tools-and-examples-bf025f872908\n",
    "\n",
    "    filtered_tokens = self._filter_hashtags_mentions(tweet)\n",
    "    filtered_tokens = self._filter_unwanted_tokens(filtered_tokens)\n",
    "    #filtered_tokens = self._lemmatize_token(filtered_tokens)\n",
    "    return filtered_tokens\n",
    "\n",
    "  def _filter_hashtags_mentions(self, tokens):\n",
    "    return [token for token in tokens if not token[0] in '#']\n",
    "\n",
    "  def _filter_unwanted_tokens(self, tokens):\n",
    "    \"\"\" \n",
    "      Takes the tokens and removes the stop words, punctuation \n",
    "      and tokens that only have none-letter characters.\n",
    "    \"\"\"\n",
    "    unwanted_tokens = set(stopwords.words('english')).union(set(string.punctuation)).union(set(string.digits))\n",
    "    filtered_tokens = [word for word in tokens if not word in unwanted_tokens]\n",
    "    return filtered_tokens\n",
    "\n",
    "  def _lemmatize_token(self, tokens):\n",
    "    lemmatized_tokens = deepcopy(tokens)\n",
    "    all_word_types = [wordnet.ADJ, wordnet.NOUN, wordnet.VERB, wordnet.ADV]\n",
    "    for word_type in all_word_types:\n",
    "      lemmatized_tokens = [self.lemmatizer.lemmatize(token, pos=word_type) for token in lemmatized_tokens]\n",
    "    return lemmatized_tokens"
   ]
  },
  {
   "cell_type": "markdown",
   "metadata": {
    "colab_type": "text",
    "id": "-x64eAuVoRK3"
   },
   "source": [
    "##2.1 Pipeline\n"
   ]
  },
  {
   "cell_type": "code",
   "execution_count": 0,
   "metadata": {
    "colab": {},
    "colab_type": "code",
    "id": "oCW2sXHyoUk4"
   },
   "outputs": [],
   "source": [
    "class PreprocessingPipeline:\n",
    "\n",
    "    def __init__(self, tokenization, twitterPreprocessing, stemming):\n",
    "        \"\"\"\n",
    "        tokenization: enable or disable tokenization.\n",
    "        twitterPreprocessing: enable or disable twitter preprocessing.\n",
    "        stemming: enable or disable stemming.\n",
    "        \"\"\"\n",
    "\n",
    "        self.tokenizer = NLTKTokenizer() if tokenization else SpaceTokenizer()\n",
    "        self.twitterPreprocesser = TwitterPreprocessing(\n",
    "        ) if twitterPreprocessing else None\n",
    "        self.stemmer = Stemmer() if stemming else None\n",
    "\n",
    "    def preprocess(self, tweet):\n",
    "        \"\"\"\n",
    "        Transform the raw data\n",
    "\n",
    "        tokenization: boolean value.\n",
    "        twitterPreprocessing: boolean value. Apply the\n",
    "        stemming: boolean value.\n",
    "        \"\"\"\n",
    "\n",
    "        tokens = self.tokenizer.tokenize(tweet)\n",
    "\n",
    "        if self.stemmer:\n",
    "            tokens = self.stemmer.stem(tokens)\n",
    "\n",
    "        if self.twitterPreprocesser:\n",
    "            tokens = self.twitterPreprocesser.preprocess(tokens)\n",
    "\n",
    "        return tokens\n"
   ]
  },
  {
   "cell_type": "code",
   "execution_count": 0,
   "metadata": {
    "colab": {},
    "colab_type": "code",
    "id": "9J6CQlW6oWH_"
   },
   "outputs": [],
   "source": [
    "pipeline = PreprocessingPipeline(tokenization=True, twitterPreprocessing=True, stemming=True)\n",
    "print(list(map(pipeline.preprocess, train_X[:1])))"
   ]
  },
  {
   "cell_type": "markdown",
   "metadata": {
    "colab_type": "text",
    "id": "uIehMxgQao_D"
   },
   "source": [
    "## 3. TF-IDF\n"
   ]
  },
  {
   "cell_type": "code",
   "execution_count": 0,
   "metadata": {
    "colab": {},
    "colab_type": "code",
    "id": "SXpvPcbn6Ddq"
   },
   "outputs": [],
   "source": [
    "from sklearn.cluster import MiniBatchKMeans\n",
    "from sklearn.feature_extraction.text import TfidfVectorizer\n",
    "from sklearn.decomposition import PCA\n",
    "from sklearn.manifold import TSNE\n",
    "import matplotlib.pyplot as plt\n",
    "import matplotlib.cm as cm\n",
    "\n",
    "tfidf = TfidfVectorizer(strip_accents = \"ascii\",\n",
    "    stop_words = 'english'\n",
    ")\n",
    "tfidf.fit(train_X)\n",
    "text = tfidf.transform(train_X)"
   ]
  },
  {
   "cell_type": "code",
   "execution_count": 0,
   "metadata": {
    "colab": {
     "base_uri": "https://localhost:8080/",
     "height": 346
    },
    "colab_type": "code",
    "id": "dIdJFRP27yKk",
    "outputId": "2154eba2-7694-4c93-9bd9-13a902f09926"
   },
   "outputs": [
    {
     "name": "stdout",
     "output_type": "stream",
     "text": [
      "Fit 2 clusters\n",
      "Fit 4 clusters\n",
      "Fit 6 clusters\n"
     ]
    },
    {
     "data": {
      "image/png": "[encoded data removed]",
      "text/plain": [
       "<Figure size 432x288 with 1 Axes>"
      ]
     },
     "metadata": {
      "needs_background": "light",
      "tags": []
     },
     "output_type": "display_data"
    }
   ],
   "source": [
    "def find_optimal_clusters(data, max_k):\n",
    "    iters = range(2, max_k+1, 2)\n",
    "    \n",
    "    sse = []\n",
    "    for k in iters:\n",
    "        sse.append(MiniBatchKMeans(n_clusters=k, init_size=1024, batch_size=2048, random_state=20).fit(data).inertia_)\n",
    "        print('Fit {} clusters'.format(k))\n",
    "        \n",
    "    f, ax = plt.subplots(1, 1)\n",
    "    ax.plot(iters, sse, marker='o')\n",
    "    ax.set_xlabel('Cluster Centers')\n",
    "    ax.set_xticks(iters)\n",
    "    ax.set_xticklabels(iters)\n",
    "    ax.set_ylabel('SSE')\n",
    "    ax.set_title('SSE by Cluster Center Plot')\n",
    "    \n",
    "find_optimal_clusters(text, 7)"
   ]
  },
  {
   "cell_type": "code",
   "execution_count": 0,
   "metadata": {
    "colab": {},
    "colab_type": "code",
    "id": "7I4ms8tq8NRC"
   },
   "outputs": [],
   "source": [
    "clusters = MiniBatchKMeans(n_clusters=5, init_size=1024, batch_size=2048, random_state=20).fit_predict(text)"
   ]
  },
  {
   "cell_type": "code",
   "execution_count": 0,
   "metadata": {
    "colab": {
     "base_uri": "https://localhost:8080/",
     "height": 390
    },
    "colab_type": "code",
    "id": "o7E_Ax-Z8T9Z",
    "outputId": "662cee4b-ae8e-4de9-d9f3-1abcacde3999"
   },
   "outputs": [
    {
     "data": {
      "image/png": "[encoded data removed]",
      "text/plain": [
       "<Figure size 1296x432 with 2 Axes>"
      ]
     },
     "metadata": {
      "needs_background": "light",
      "tags": []
     },
     "output_type": "display_data"
    }
   ],
   "source": [
    "import numpy as np\n",
    "def plot_tsne_pca(data, labels):\n",
    "    max_label = max(labels)\n",
    "    max_items = np.random.choice(range(data.shape[0]), size=3, replace=False)\n",
    "    \n",
    "    pca = PCA(n_components=2).fit_transform(data[max_items,:].todense())\n",
    "    tsne = TSNE().fit_transform(PCA(n_components=2).fit_transform(data[max_items,:].todense()))\n",
    "    \n",
    "    \n",
    "    idx = np.random.choice(range(pca.shape[0]), size=3, replace=False)\n",
    "    label_subset = labels[max_items]\n",
    "    label_subset = [cm.hsv(i/max_label) for i in label_subset[idx]]\n",
    "    \n",
    "    f, ax = plt.subplots(1, 2, figsize=(18, 6))\n",
    "    \n",
    "    ax[0].scatter(pca[idx, 0], pca[idx, 1], c=label_subset)\n",
    "    ax[0].set_title('PCA Cluster Plot')\n",
    "    \n",
    "    ax[1].scatter(tsne[idx, 0], tsne[idx, 1], c=label_subset)\n",
    "    ax[1].set_title('TSNE Cluster Plot')\n",
    "    \n",
    "plot_tsne_pca(text, clusters)"
   ]
  },
  {
   "cell_type": "code",
   "execution_count": 0,
   "metadata": {
    "colab": {
     "base_uri": "https://localhost:8080/",
     "height": 272
    },
    "colab_type": "code",
    "id": "ja_P3vkU88JC",
    "outputId": "8f0d3cc6-bc8f-4d42-f67f-538885801208"
   },
   "outputs": [
    {
     "name": "stdout",
     "output_type": "stream",
     "text": [
      "\n",
      "Cluster 0\n",
      "stop,100ku_,musk,global,funniest,fans,existentialcoms,elon,selling,going\n",
      "\n",
      "Cluster 1\n",
      "know,responsible,electric,person,cars,nice,divorce,able,donatingu_,making\n",
      "\n",
      "Cluster 2\n",
      "neily1973,4yqsd0f4af,fantasy,claims,created,jobs,pure,economy,isn,otheu_\n",
      "\n",
      "Cluster 3\n",
      "future,elonmusk,includu_,hey,gregghoush,good,fight,fighting,disappointing,doesnuat\n",
      "\n",
      "Cluster 4\n",
      "celebrities,saysirq,naus4rwk1n,support,jodi_churchill,donuau_,yarmiganosca,change,climate,https\n"
     ]
    }
   ],
   "source": [
    "import pandas as pd\n",
    "def get_top_keywords(data, clusters, labels, n_terms):\n",
    "    df = pd.DataFrame(data.todense()).groupby(clusters).mean()\n",
    "    \n",
    "    for i,r in df.iterrows():\n",
    "        print('\\nCluster {}'.format(i))\n",
    "        print(','.join([labels[t] for t in np.argsort(r)[-n_terms:]]))\n",
    "            \n",
    "get_top_keywords(text, clusters, tfidf.get_feature_names(), 10)"
   ]
  }
 ],
 "metadata": {
  "colab": {
   "collapsed_sections": [],
   "name": "TP2_INF8111_2019.ipynb",
   "provenance": []
  },
  "kernelspec": {
   "display_name": "Python 3",
   "language": "python",
   "name": "python3"
  },
  "language_info": {
   "codemirror_mode": {
    "name": "ipython",
    "version": 3
   },
   "file_extension": ".py",
   "mimetype": "text/x-python",
   "name": "python",
   "nbconvert_exporter": "python",
   "pygments_lexer": "ipython3",
   "version": "3.6.8"
  }
 },
 "nbformat": 4,
 "nbformat_minor": 1
}
